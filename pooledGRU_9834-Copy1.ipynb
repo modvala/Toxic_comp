{
 "cells": [
  {
   "cell_type": "code",
   "execution_count": 1,
   "metadata": {},
   "outputs": [
    {
     "name": "stderr",
     "output_type": "stream",
     "text": [
      "Using TensorFlow backend.\n"
     ]
    }
   ],
   "source": [
    "import numpy as np\n",
    "np.random.seed(42)\n",
    "import pandas as pd\n",
    "\n",
    "from sklearn.model_selection import train_test_split\n",
    "from sklearn.metrics import roc_auc_score\n",
    "from keras.callbacks import EarlyStopping, ModelCheckpoint, LearningRateScheduler\n",
    "\n",
    "from keras.models import Model\n",
    "from keras.layers import Input, Dense, Embedding, SpatialDropout1D, concatenate\n",
    "from keras.layers import GRU, Bidirectional, GlobalAveragePooling1D, GlobalMaxPooling1D, Dropout\n",
    "from keras.preprocessing import text, sequence\n",
    "from keras.callbacks import Callback\n",
    "from keras import backend as K\n",
    "import re\n",
    "import warnings\n",
    "warnings.filterwarnings('ignore')\n",
    "import gensim\n",
    "\n",
    "import os\n",
    "os.environ['OMP_NUM_THREADS'] = '4'"
   ]
  },
  {
   "cell_type": "code",
   "execution_count": 2,
   "metadata": {
    "collapsed": true
   },
   "outputs": [],
   "source": [
    "EMBEDDING_FILE = 'vocs/glove.twitter.27B.200d_w2v.txt'"
   ]
  },
  {
   "cell_type": "code",
   "execution_count": 3,
   "metadata": {
    "collapsed": true
   },
   "outputs": [],
   "source": [
    "train = pd.read_csv('pre_data/df_train_tw_corr.csv', sep=';', index_col='index')\n",
    "test = pd.read_csv('pre_data/df_test_tw_corr.csv', sep=';', index_col='index')\n",
    "submission = pd.read_csv('data/sample_submission.csv')\n",
    "\n",
    "y = pd.read_csv('data/train.csv')\n",
    "\n",
    "X_train = train[\"comment_text\"].fillna(\"fillna\").values\n",
    "y_train = y[[\"toxic\", \"severe_toxic\", \"obscene\", \"threat\", \"insult\", \"identity_hate\"]].values\n",
    "X_test = test[\"comment_text\"].fillna(\"fillna\").values\n",
    "\n",
    "\n",
    "max_features = 200000\n",
    "maxlen = 460\n",
    "\n",
    "\n",
    "tokenizer = text.Tokenizer(num_words=max_features, filters= '~\\t\\n' )\n",
    "tokenizer.fit_on_texts(list(X_train) + list(X_test))\n",
    "X_train = tokenizer.texts_to_sequences(X_train)\n",
    "X_test = tokenizer.texts_to_sequences(X_test)\n",
    "x_train = sequence.pad_sequences(X_train, maxlen=maxlen)\n",
    "x_test = sequence.pad_sequences(X_test, maxlen=maxlen)"
   ]
  },
  {
   "cell_type": "code",
   "execution_count": 4,
   "metadata": {
    "collapsed": true
   },
   "outputs": [],
   "source": [
    "from collections import defaultdict, Counter\n",
    "import tqdm"
   ]
  },
  {
   "cell_type": "code",
   "execution_count": null,
   "metadata": {
    "collapsed": true
   },
   "outputs": [],
   "source": [
    "model = gensim.models.KeyedVectors.load_word2vec_format('vocs/glov')\n",
    "embed_size = 200\n",
    "\n",
    "#def get_coefs(word, *arr): return word, np.asarray(arr, dtype='float32')\n",
    "embeddings_index = {key:model.wv[key] for key in model.wv.vocab.keys()}\n",
    "\n",
    "all_embs = np.stack(embeddings_index.values())\n",
    "emb_mean, emb_std = all_embs.mean(), all_embs.std()\n",
    "\n",
    "word_index = tokenizer.word_index\n",
    "nb_words = min(max_features, len(word_index))\n",
    "embedding_matrix = np.random.normal(emb_mean, emb_std, (nb_words, embed_size))\n",
    "\n",
    "above_max = Counter()\n",
    "in_corpus = Counter()\n",
    "not_in_corpus = Counter()\n",
    "for word, i in word_index.items():\n",
    "    if i >= max_features: \n",
    "        above_max.update([word])\n",
    "        continue\n",
    "    embedding_vector = embeddings_index.get(word)\n",
    "    if embedding_vector is not None: \n",
    "        in_corpus.update([word])\n",
    "        embedding_matrix[i] = embedding_vector\n",
    "    else:\n",
    "        not_in_corpus.update([word])\n",
    "print('all_words {all_} \\n rearly words {re} \\n words in courpus {cor} \\n words not in corpus {not_}'\\\n",
    "      .format(all_ = len(word_index),\n",
    "             re = len(above_max),\n",
    "             cor = len(in_corpus),\n",
    "             not_ = len(not_in_corpus)))"
   ]
  },
  {
   "cell_type": "code",
   "execution_count": 5,
   "metadata": {},
   "outputs": [
    {
     "name": "stdout",
     "output_type": "stream",
     "text": [
      "all_words 303902 \n",
      " rearly words 103903 \n",
      " words in courpus 88812 \n",
      " words not in corpus 111187\n"
     ]
    }
   ],
   "source": [
    "model = gensim.models.KeyedVectors.load_word2vec_format('vocs/glove.twitter.27B.200d_w2v.txt')\n",
    "embed_size = 200\n",
    "\n",
    "#def get_coefs(word, *arr): return word, np.asarray(arr, dtype='float32')\n",
    "embeddings_index = {key:model.wv[key] for key in model.wv.vocab.keys()}\n",
    "\n",
    "all_embs = np.stack(embeddings_index.values())\n",
    "emb_mean, emb_std = all_embs.mean(), all_embs.std()\n",
    "\n",
    "word_index = tokenizer.word_index\n",
    "nb_words = min(max_features, len(word_index))\n",
    "embedding_matrix = np.random.normal(emb_mean, emb_std, (nb_words, embed_size))\n",
    "\n",
    "above_max = Counter()\n",
    "in_corpus = Counter()\n",
    "not_in_corpus = Counter()\n",
    "for word, i in word_index.items():\n",
    "    if i >= max_features: \n",
    "        above_max.update([word])\n",
    "        continue\n",
    "    embedding_vector = embeddings_index.get(word)\n",
    "    if embedding_vector is not None: \n",
    "        in_corpus.update([word])\n",
    "        embedding_matrix[i] = embedding_vector\n",
    "    else:\n",
    "        not_in_corpus.update([word])\n",
    "print('all_words {all_} \\n rearly words {re} \\n words in courpus {cor} \\n words not in corpus {not_}'\\\n",
    "      .format(all_ = len(word_index),\n",
    "             re = len(above_max),\n",
    "             cor = len(in_corpus),\n",
    "             not_ = len(not_in_corpus)))"
   ]
  },
  {
   "cell_type": "code",
   "execution_count": 6,
   "metadata": {
    "collapsed": true
   },
   "outputs": [],
   "source": [
    "back_model = gensim.models.KeyedVectors.load_word2vec_format('vocs/wiki.en.vec')"
   ]
  },
  {
   "cell_type": "code",
   "execution_count": 7,
   "metadata": {
    "collapsed": true
   },
   "outputs": [],
   "source": [
    "words = back_model.index2word\n",
    "\n",
    "w_rank = {}\n",
    "for i,word in enumerate(words):\n",
    "    w_rank[word] = i\n",
    "rank_w = {v: k for k, v in w_rank.items()}"
   ]
  },
  {
   "cell_type": "code",
   "execution_count": null,
   "metadata": {
    "collapsed": true
   },
   "outputs": [],
   "source": [
    "def get_random_neigbour(source_voc, back_voc):\n",
    "    "
   ]
  },
  {
   "cell_type": "code",
   "execution_count": 59,
   "metadata": {},
   "outputs": [
    {
     "data": {
      "text/plain": [
       "81851"
      ]
     },
     "execution_count": 59,
     "metadata": {},
     "output_type": "execute_result"
    }
   ],
   "source": [
    "w_rank['alkalinity']"
   ]
  },
  {
   "cell_type": "code",
   "execution_count": null,
   "metadata": {
    "collapsed": true
   },
   "outputs": [],
   "source": []
  },
  {
   "cell_type": "code",
   "execution_count": 67,
   "metadata": {},
   "outputs": [
    {
     "data": {
      "text/plain": [
       "'abelardo'"
      ]
     },
     "execution_count": 67,
     "metadata": {},
     "output_type": "execute_result"
    }
   ],
   "source": [
    "back_model.vw.rank_w[81852]"
   ]
  },
  {
   "cell_type": "code",
   "execution_count": 68,
   "metadata": {},
   "outputs": [
    {
     "data": {
      "text/plain": [
       "array([-0.38530999,  0.018672  ,  0.71012998, -0.2145    , -0.066383  ,\n",
       "       -0.61518002, -0.57577002,  0.42109001, -0.46994001, -0.094342  ,\n",
       "       -0.16861001, -0.44874001,  0.032981  ,  0.50312001, -0.13209   ,\n",
       "        0.47503   , -0.34014001,  0.2683    , -0.15684   ,  0.37368   ,\n",
       "       -0.1002    , -0.12398   , -0.10444   , -0.20232999,  0.25674999,\n",
       "       -0.14805   , -0.2229    ,  0.14963   ,  0.15484001,  0.55812001,\n",
       "        0.26065001,  0.27829   , -0.27996999, -0.67708999, -0.77495998,\n",
       "       -0.41867   , -0.52727002, -0.26034999,  0.022363  ,  0.27932   ,\n",
       "       -0.035946  , -0.55369002,  0.15404999,  0.17352   , -0.43766001,\n",
       "        0.13330001,  0.21281999,  0.42534   ,  0.1119    ,  0.25398999,\n",
       "        0.35267001, -0.09472   , -0.054745  ,  0.33546001,  0.20115   ,\n",
       "       -0.44589001,  0.06521   , -0.69949001, -0.1301    , -0.021313  ,\n",
       "        0.12640999, -0.039781  , -0.17640001,  0.027382  , -0.0087436 ,\n",
       "       -0.090187  ,  0.1086    ,  0.062387  ,  0.020119  , -0.70358002,\n",
       "        0.14045   ,  0.33561   ,  0.13624001,  0.10126   ,  0.35826999,\n",
       "       -0.56222999,  0.12621   ,  0.2057    , -0.019186  , -0.31038001,\n",
       "        0.1391    ,  0.24023999, -0.16572   ,  0.061214  , -0.10604   ,\n",
       "       -0.33463001,  0.82674998, -0.57682002,  0.18491   , -0.084928  ,\n",
       "       -0.12503999, -0.17316   ,  0.67637002,  0.10369   , -0.29414001,\n",
       "        0.93950999, -0.035545  ,  0.12029   , -0.17929   ,  0.54797   ,\n",
       "        0.15324   , -0.27359   ,  0.053315  , -0.30112001, -0.42175999,\n",
       "        0.31095999, -0.33476999, -0.21907   , -0.16874   ,  0.1287    ,\n",
       "       -0.016467  , -0.24662   ,  0.34593001, -0.15823001,  0.025155  ,\n",
       "        0.28843999, -0.46272999, -0.32126999, -0.081891  , -0.20867001,\n",
       "        0.24797   ,  0.69288999,  0.48996001,  0.4043    ,  0.055318  ,\n",
       "       -0.28685999, -0.52460998,  0.057849  ,  0.39827001, -0.42374   ,\n",
       "        0.074552  ,  0.32464999, -0.39024001, -0.14737999, -0.72601998,\n",
       "       -0.21506999,  0.64357001,  0.24601001,  0.47237   ,  0.43781999,\n",
       "        0.74816   ,  0.48245999,  0.056982  , -0.35128999,  0.29574001,\n",
       "       -0.12321   ,  0.25047001,  0.24308001,  0.12927   , -0.32372999,\n",
       "        0.67777002,  0.041668  ,  0.74708998, -0.37118   ,  0.011217  ,\n",
       "       -0.34593999, -0.18638   ,  0.027314  ,  0.12052   , -0.34900001,\n",
       "        0.055117  , -0.23072   , -0.03984   ,  0.29082999,  0.36656001,\n",
       "       -0.12616   ,  0.099964  ,  0.50880998,  0.38152   , -0.28582001,\n",
       "       -0.40996999, -0.098135  ,  0.25233001, -0.094645  , -0.30895001,\n",
       "       -0.88564998, -0.80201   , -0.1219    , -0.23312999,  0.17253   ,\n",
       "        0.15541001, -0.64273   ,  0.12634   , -0.28957   ,  0.73201001,\n",
       "        0.46711001, -0.45756999,  0.40254   , -0.66293001,  0.15676001,\n",
       "       -0.16902   ,  0.78074002,  0.52583998,  0.096808  ,  0.18454   ,\n",
       "       -0.05383   ,  0.96108001,  0.21495   ,  0.18587001, -0.1036    ], dtype=float32)"
      ]
     },
     "execution_count": 68,
     "metadata": {},
     "output_type": "execute_result"
    }
   ],
   "source": [
    "embeddings_index['abelardo']"
   ]
  },
  {
   "cell_type": "code",
   "execution_count": 24,
   "metadata": {},
   "outputs": [
    {
     "data": {
      "text/plain": [
       "67493"
      ]
     },
     "execution_count": 24,
     "metadata": {},
     "output_type": "execute_result"
    }
   ],
   "source": [
    "word_index['jrpg']"
   ]
  },
  {
   "cell_type": "code",
   "execution_count": 27,
   "metadata": {},
   "outputs": [
    {
     "name": "stdout",
     "output_type": "stream",
     "text": [
      "111187\n"
     ]
    },
    {
     "data": {
      "text/plain": [
       "[('euagrus', 1),\n",
       " ('achaemend', 1),\n",
       " ('amikinoj', 1),\n",
       " ('rosewall', 1),\n",
       " ('sl.wikipedia.org', 1),\n",
       " ('meretricious', 1),\n",
       " ('phix', 1),\n",
       " ('geopolitically', 1),\n",
       " ('zhurlihee', 1),\n",
       " ('rosevelt', 1),\n",
       " ('alkalinity', 1),\n",
       " ('mediawiki_message', 1),\n",
       " ('hahahahahaahahahahahahahahahahahahahahaha', 1),\n",
       " ('aqualad', 1),\n",
       " ('perlmutter', 1),\n",
       " ('spieleerfinder', 1),\n",
       " ('teninch', 1),\n",
       " ('earlcampbell', 1),\n",
       " ('briseš', 1),\n",
       " ('mushrik', 1),\n",
       " ('uncollapse', 1),\n",
       " ('<allcaps>-nog', 1),\n",
       " ('chatelier', 1),\n",
       " ('mayeb', 1),\n",
       " ('j.mickelakos', 1),\n",
       " ('presupos', 1),\n",
       " ('avoid.gif', 1),\n",
       " ('fpcus', 1),\n",
       " ('godhood', 1),\n",
       " ('موجودیت', 1)]"
      ]
     },
     "execution_count": 27,
     "metadata": {},
     "output_type": "execute_result"
    }
   ],
   "source": [
    "print(len(not_in_corpus))\n",
    "not_in_corpus.most_common(30)"
   ]
  },
  {
   "cell_type": "code",
   "execution_count": 17,
   "metadata": {},
   "outputs": [
    {
     "name": "stdout",
     "output_type": "stream",
     "text": [
      "103903\n"
     ]
    },
    {
     "data": {
      "text/plain": [
       "[('overgorge', 1),\n",
       " ('gomatheeswaran', 1),\n",
       " ('مذاهب', 1),\n",
       " ('warkana', 1),\n",
       " ('generalisieren', 1),\n",
       " ('masungit', 1),\n",
       " ('alagukanthavel.blogspot.com', 1),\n",
       " ('wikifuhrer', 1),\n",
       " ('neodredjenih', 1),\n",
       " ('армяшкиs', 1),\n",
       " ('baixar', 1),\n",
       " ('بیایی', 1),\n",
       " ('teveel', 1),\n",
       " ('sultanali', 1),\n",
       " ('kifejezetten', 1),\n",
       " ('چندسال', 1),\n",
       " ('rrënja', 1),\n",
       " ('devianart', 1),\n",
       " ('bambook', 1),\n",
       " ('mondragón', 1)]"
      ]
     },
     "execution_count": 17,
     "metadata": {},
     "output_type": "execute_result"
    }
   ],
   "source": [
    "print(len(above_max))\n",
    "above_max.most_common(20)"
   ]
  },
  {
   "cell_type": "code",
   "execution_count": 8,
   "metadata": {
    "collapsed": true
   },
   "outputs": [],
   "source": [
    "class RocAucEvaluation(Callback):\n",
    "    def __init__(self, validation_data=(), interval=1):\n",
    "        super(Callback, self).__init__()\n",
    "\n",
    "        self.interval = interval\n",
    "        self.X_val, self.y_val = validation_data\n",
    "\n",
    "    def on_epoch_end(self, epoch, logs={}):\n",
    "        if epoch % self.interval == 0:\n",
    "            y_pred = self.model.predict(self.X_val, verbose=0)\n",
    "            score = roc_auc_score(self.y_val, y_pred)\n",
    "            print(\"\\n ROC-AUC - epoch: %d - score: %.6f \\n\" % (epoch+1, score))\n",
    "\n",
    "\n",
    "def get_model():\n",
    "    inp = Input(shape=(maxlen, ))\n",
    "    x = Embedding(max_features, embed_size, weights=[embedding_matrix])(inp)\n",
    "    x = SpatialDropout1D(0.5)(x)\n",
    "    x = Bidirectional(GRU(250,return_sequences=True, recurrent_dropout=0.5), )(x)\n",
    "    \n",
    "    avg_pool = GlobalAveragePooling1D()(x)\n",
    "    max_pool = GlobalMaxPooling1D()(x)\n",
    "    conc = concatenate([avg_pool, max_pool])\n",
    "    x = Dropout(0.5)(conc)\n",
    "    outp = Dense(6, activation=\"sigmoid\")(x)\n",
    "    \n",
    "    model = Model(inputs=inp, outputs=outp)\n",
    "    model.compile(loss='binary_crossentropy',\n",
    "                  optimizer='adam',\n",
    "                  metrics=['accuracy'])\n",
    "\n",
    "    return model"
   ]
  },
  {
   "cell_type": "code",
   "execution_count": 10,
   "metadata": {},
   "outputs": [
    {
     "name": "stdout",
     "output_type": "stream",
     "text": [
      "Train on 135635 samples, validate on 23936 samples\n",
      "Epoch 1/4\n",
      "\n",
      " ROC-AUC - epoch: 1 - score: 0.973696 \n",
      "\n",
      "Epoch 00001: val_loss improved from inf to 0.04915, saving model to models/best_right_tockzer.hdf5\n",
      " - 890s - loss: 0.0945 - acc: 0.9699 - val_loss: 0.0491 - val_acc: 0.9818\n",
      "Epoch 2/4\n",
      "\n",
      " ROC-AUC - epoch: 2 - score: 0.981144 \n",
      "\n",
      "Epoch 00002: val_loss improved from 0.04915 to 0.04465, saving model to models/best_right_tockzer.hdf5\n",
      " - 891s - loss: 0.0508 - acc: 0.9813 - val_loss: 0.0447 - val_acc: 0.9831\n",
      "Epoch 3/4\n",
      "\n",
      " ROC-AUC - epoch: 3 - score: 0.984075 \n",
      "\n",
      "Epoch 00003: val_loss improved from 0.04465 to 0.04246, saving model to models/best_right_tockzer.hdf5\n",
      " - 891s - loss: 0.0453 - acc: 0.9829 - val_loss: 0.0425 - val_acc: 0.9840\n",
      "Epoch 4/4\n",
      "\n",
      " ROC-AUC - epoch: 4 - score: 0.986374 \n",
      "\n",
      "Epoch 00004: val_loss improved from 0.04246 to 0.04049, saving model to models/best_right_tockzer.hdf5\n",
      " - 891s - loss: 0.0420 - acc: 0.9838 - val_loss: 0.0405 - val_acc: 0.9844\n",
      "CPU times: user 1h 5min 14s, sys: 12min 53s, total: 1h 18min 8s\n",
      "Wall time: 1h 2min\n"
     ]
    }
   ],
   "source": [
    "%%time\n",
    "model = get_model()\n",
    "\n",
    "\n",
    "batch_size = 512\n",
    "epochs = 4\n",
    "\n",
    "file_path = \"models/best_right_tockzer.hdf5\"\n",
    "check_point = ModelCheckpoint(file_path, monitor = \"val_loss\", verbose = 1,\n",
    "                              save_best_only = True, mode = \"min\")\n",
    "\n",
    "early_stop = EarlyStopping(monitor = \"val_loss\", mode = \"min\", patience = 5)\n",
    "\n",
    "\n",
    "[X_tra, X_val, y_tra, y_val] = train_test_split(x_train, y_train, train_size=0.85, random_state=233)\n",
    "RocAuc = RocAucEvaluation(validation_data=(X_val, y_val), interval=1)\n",
    "\n",
    "exp_decay = lambda init, fin, steps: (init/fin)**(1/(steps-1)) - 1\n",
    "steps = int(len(X_tra)/batch_size) * epochs\n",
    "lr_init, lr_fin = 0.001, 0.0001\n",
    "lr_decay = exp_decay(lr_init, lr_fin, steps)\n",
    "K.set_value(model.optimizer.lr, lr_init)\n",
    "K.set_value(model.optimizer.decay, lr_decay)\n",
    "\n",
    "hist = model.fit(X_tra, y_tra, batch_size=batch_size, epochs=epochs, validation_data=(X_val, y_val),\n",
    "                 callbacks=[RocAuc, check_point, early_stop], verbose=2)\n",
    "\n",
    "\n",
    "y_pred = model.predict(x_test, batch_size=1024)\n",
    "submission[[\"toxic\", \"severe_toxic\", \"obscene\", \"threat\", \"insult\", \"identity_hate\"]] = y_pred"
   ]
  },
  {
   "cell_type": "code",
   "execution_count": 12,
   "metadata": {},
   "outputs": [
    {
     "name": "stdout",
     "output_type": "stream",
     "text": [
      "Train on 135635 samples, validate on 23936 samples\n",
      "Epoch 5/8\n",
      "\n",
      " ROC-AUC - epoch: 5 - score: 0.987377 \n",
      "\n",
      "Epoch 00005: val_loss did not improve\n",
      " - 889s - loss: 0.0387 - acc: 0.9848 - val_loss: 0.0416 - val_acc: 0.9840\n",
      "Epoch 6/8\n",
      "\n",
      " ROC-AUC - epoch: 6 - score: 0.988581 \n",
      "\n",
      "Epoch 00006: val_loss improved from 0.04049 to 0.03943, saving model to models/best_right_tockzer.hdf5\n",
      " - 891s - loss: 0.0368 - acc: 0.9853 - val_loss: 0.0394 - val_acc: 0.9847\n",
      "Epoch 7/8\n",
      "\n",
      " ROC-AUC - epoch: 7 - score: 0.988643 \n",
      "\n",
      "Epoch 00007: val_loss did not improve\n",
      " - 888s - loss: 0.0351 - acc: 0.9860 - val_loss: 0.0396 - val_acc: 0.9847\n",
      "Epoch 8/8\n",
      "\n",
      " ROC-AUC - epoch: 8 - score: 0.988781 \n",
      "\n",
      "Epoch 00008: val_loss did not improve\n",
      " - 888s - loss: 0.0337 - acc: 0.9865 - val_loss: 0.0404 - val_acc: 0.9848\n"
     ]
    }
   ],
   "source": [
    "hist = model.fit(X_tra, y_tra, batch_size=batch_size, initial_epoch=4, epochs=8, validation_data=(X_val, y_val),\n",
    "                 callbacks=[RocAuc, check_point, early_stop], verbose=2)"
   ]
  },
  {
   "cell_type": "code",
   "execution_count": 14,
   "metadata": {
    "collapsed": true
   },
   "outputs": [],
   "source": [
    "model.load_weights('models/best_right_tockzer.hdf5')\n",
    "y_pred = model.predict(x_test, batch_size=1024)\n",
    "submission[[\"toxic\", \"severe_toxic\", \"obscene\", \"threat\", \"insult\", \"identity_hate\"]] = y_pred"
   ]
  },
  {
   "cell_type": "code",
   "execution_count": 15,
   "metadata": {
    "collapsed": true
   },
   "outputs": [],
   "source": [
    "submission.to_csv('submission_1103.csv', index=False)"
   ]
  },
  {
   "cell_type": "code",
   "execution_count": 16,
   "metadata": {},
   "outputs": [
    {
     "name": "stdout",
     "output_type": "stream",
     "text": [
      "0.9834\r\n"
     ]
    }
   ],
   "source": [
    "! kg config -c jigsaw-toxic-comment-classification-challenge -u cerdgio86@gmail.com -p 68918082\n",
    "\n",
    "! kg submit 'submission_1103.csv' -m \"___s____\""
   ]
  },
  {
   "cell_type": "code",
   "execution_count": 29,
   "metadata": {
    "collapsed": true
   },
   "outputs": [],
   "source": [
    "from keras.models import load_model\n",
    "model.save('models/my_model_9829.h5')"
   ]
  },
  {
   "cell_type": "code",
   "execution_count": null,
   "metadata": {
    "collapsed": true
   },
   "outputs": [],
   "source": [
    "from keras.optimizers import Adam, RMSprop\n",
    "from keras.callbacks import EarlyStopping, ModelCheckpoint, LearningRateScheduler\n",
    "from keras.layers import GRU, BatchNormalization, Conv1D, MaxPooling1D\n",
    "\n",
    "file_path = \"best_model.hdf5\"\n",
    "check_point = ModelCheckpoint(file_path, monitor = \"val_loss\", verbose = 1,\n",
    "                              save_best_only = True, mode = \"min\")\n",
    "ra_val = RocAucEvaluation(validation_data=(X_valid, Y_valid), interval = 1)\n",
    "early_stop = EarlyStopping(monitor = \"val_loss\", mode = \"min\", patience = 5)\n",
    "\n",
    "def build_model(lr = 0.0, lr_d = 0.0, units = 0, dr = 0.0):\n",
    "    inp = Input(shape = (max_len,))\n",
    "    x = Embedding(max_features, embed_size, weights = [embedding_matrix], trainable = False)(inp)\n",
    "    x = SpatialDropout1D(dr)(x)\n",
    "\n",
    "    x = Bidirectional(GRU(units, return_sequences = True))(x)\n",
    "    x = Conv1D(64, kernel_size = 2, padding = \"valid\", kernel_initializer = \"he_uniform\")(x)\n",
    "    avg_pool = GlobalAveragePooling1D()(x)\n",
    "    max_pool = GlobalMaxPooling1D()(x)\n",
    "    x = concatenate([avg_pool, max_pool])\n",
    "\n",
    "    x = Dense(6, activation = \"sigmoid\")(x)\n",
    "    model = Model(inputs = inp, outputs = x)\n",
    "    model.compile(loss = \"binary_crossentropy\", optimizer = Adam(lr = lr, decay = lr_d), metrics = [\"accuracy\"])\n",
    "    history = model.fit(X_train, Y_train, batch_size = 128, epochs = 4, validation_data = (X_valid, Y_valid), \n",
    "                        verbose = 1, callbacks = [ra_val, check_point, early_stop])\n",
    "    model = load_model(file_path)\n",
    "    return model"
   ]
  }
 ],
 "metadata": {
  "kernelspec": {
   "display_name": "Python 3",
   "language": "python",
   "name": "python3"
  },
  "language_info": {
   "codemirror_mode": {
    "name": "ipython",
    "version": 3
   },
   "file_extension": ".py",
   "mimetype": "text/x-python",
   "name": "python",
   "nbconvert_exporter": "python",
   "pygments_lexer": "ipython3",
   "version": "3.5.2"
  }
 },
 "nbformat": 4,
 "nbformat_minor": 2
}
