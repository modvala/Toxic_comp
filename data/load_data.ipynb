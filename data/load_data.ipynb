{
 "cells": [
  {
   "cell_type": "code",
   "execution_count": 4,
   "metadata": {},
   "outputs": [
    {
     "name": "stdout",
     "output_type": "stream",
     "text": [
      "downloading https://www.kaggle.com/c/jigsaw-toxic-comment-classification-challenge/download/sample_submission.csv.zip\n",
      "\n",
      "sample_submission.csv.zip 100% |#####################| Time: 0:00:00   2.0 MiB/s\n",
      "\n",
      "downloading https://www.kaggle.com/c/jigsaw-toxic-comment-classification-challenge/download/test.csv.zip\n",
      "\n",
      "test.csv.zip 100% |##################################| Time: 0:00:01  16.9 MiB/s\n",
      "\n",
      "downloading https://www.kaggle.com/c/jigsaw-toxic-comment-classification-challenge/download/train.csv.zip\n",
      "\n",
      "train.csv.zip 100% |#################################| Time: 0:00:01  17.5 MiB/s\n",
      "\n"
     ]
    }
   ],
   "source": [
    "! kg download -u 'cerdgio86@gmail.com' -p '68918082' -c 'jigsaw-toxic-comment-classification-challenge'"
   ]
  },
  {
   "cell_type": "code",
   "execution_count": 5,
   "metadata": {},
   "outputs": [
    {
     "name": "stdout",
     "output_type": "stream",
     "text": [
      "Archive:  train.csv.zip\n",
      "  inflating: train.csv               \n"
     ]
    }
   ],
   "source": [
    "! unzip train.csv.zip"
   ]
  },
  {
   "cell_type": "code",
   "execution_count": 6,
   "metadata": {},
   "outputs": [
    {
     "name": "stdout",
     "output_type": "stream",
     "text": [
      "Archive:  test.csv.zip\n",
      "  inflating: test.csv                \n",
      "Archive:  sample_submission.csv.zip\n",
      "  inflating: sample_submission.csv   \n"
     ]
    }
   ],
   "source": [
    "! unzip test.csv.zip\n",
    "! unzip sample_submission.csv.zip"
   ]
  },
  {
   "cell_type": "code",
   "execution_count": 3,
   "metadata": {},
   "outputs": [
    {
     "name": "stdout",
     "output_type": "stream",
     "text": [
      "/bin/sh: https://researchdata.sfu.ca/islandora/object/islandora%3A9109/datastream/OBJ/download/*: No such file or directory\r\n"
     ]
    }
   ],
   "source": [
    "! https://researchdata.sfu.ca/islandora/object/islandora%3A9109/datastream/OBJ/download/*"
   ]
  },
  {
   "cell_type": "code",
   "execution_count": 4,
   "metadata": {},
   "outputs": [
    {
     "name": "stdout",
     "output_type": "stream",
     "text": [
      "Archive:  SFU-SFU-_SOCC.zip\n",
      "   creating: SOCC/\n",
      "  inflating: SOCC/.DS_Store          \n",
      "   creating: __MACOSX/\n",
      "   creating: __MACOSX/SOCC/\n",
      "  inflating: __MACOSX/SOCC/._.DS_Store  \n",
      "   creating: SOCC/annotated/\n",
      "  inflating: SOCC/annotated/.DS_Store  \n",
      "   creating: __MACOSX/SOCC/annotated/\n",
      "  inflating: __MACOSX/SOCC/annotated/._.DS_Store  \n",
      "   creating: SOCC/annotated/Appraisal/\n",
      "  inflating: SOCC/annotated/Appraisal/.DS_Store  \n",
      "   creating: __MACOSX/SOCC/annotated/Appraisal/\n",
      "  inflating: __MACOSX/SOCC/annotated/Appraisal/._.DS_Store  \n",
      "  inflating: SOCC/annotated/Appraisal/Appraisal_annotations.zip  \n",
      "  inflating: __MACOSX/SOCC/annotated/Appraisal/._Appraisal_annotations.zip  \n",
      "   creating: SOCC/annotated/constructiveness/\n",
      "  inflating: SOCC/annotated/constructiveness/.DS_Store  \n",
      "   creating: __MACOSX/SOCC/annotated/constructiveness/\n",
      "  inflating: __MACOSX/SOCC/annotated/constructiveness/._.DS_Store  \n",
      "  inflating: SOCC/annotated/constructiveness/SFU_constructiveness_toxicity_corpus.csv  \n",
      "  inflating: __MACOSX/SOCC/annotated/constructiveness/._SFU_constructiveness_toxicity_corpus.csv  \n",
      "   creating: SOCC/annotated/negation/\n",
      "  inflating: SOCC/annotated/negation/.DS_Store  \n",
      "   creating: __MACOSX/SOCC/annotated/negation/\n",
      "  inflating: __MACOSX/SOCC/annotated/negation/._.DS_Store  \n",
      "  inflating: SOCC/annotated/negation/Negation_annotation.zip  \n",
      "  inflating: __MACOSX/SOCC/annotated/negation/._Negation_annotation.zip  \n",
      "   creating: SOCC/raw/\n",
      "  inflating: SOCC/raw/gnm_articles.csv  \n",
      "   creating: __MACOSX/SOCC/raw/\n",
      "  inflating: __MACOSX/SOCC/raw/._gnm_articles.csv  \n",
      "  inflating: SOCC/raw/gnm_comment_threads.csv  \n",
      "  inflating: __MACOSX/SOCC/raw/._gnm_comment_threads.csv  \n",
      "  inflating: SOCC/raw/gnm_comments.csv  \n",
      "  inflating: __MACOSX/SOCC/raw/._gnm_comments.csv  \n"
     ]
    }
   ],
   "source": [
    "! unzip SFU-SFU-_SOCC.zip"
   ]
  },
  {
   "cell_type": "code",
   "execution_count": null,
   "metadata": {
    "collapsed": true
   },
   "outputs": [],
   "source": []
  }
 ],
 "metadata": {
  "kernelspec": {
   "display_name": "Python 3",
   "language": "python",
   "name": "python3"
  },
  "language_info": {
   "codemirror_mode": {
    "name": "ipython",
    "version": 3
   },
   "file_extension": ".py",
   "mimetype": "text/x-python",
   "name": "python",
   "nbconvert_exporter": "python",
   "pygments_lexer": "ipython3",
   "version": "3.5.2"
  }
 },
 "nbformat": 4,
 "nbformat_minor": 2
}
