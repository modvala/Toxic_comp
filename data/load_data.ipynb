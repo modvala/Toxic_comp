{
 "cells": [
  {
   "cell_type": "code",
   "execution_count": 6,
   "metadata": {
    "collapsed": false,
    "deletable": true,
    "editable": true
   },
   "outputs": [
    {
     "name": "stdout",
     "output_type": "stream",
     "text": [
      "downloading https://www.kaggle.com/c/jigsaw-toxic-comment-classification-challenge/download/sample_submission.csv.zip\n",
      "\n",
      "sample_submission.csv.zip 100% |#####################| Time: 0:00:01   1.4 MiB/s\n",
      "\n",
      "downloading https://www.kaggle.com/c/jigsaw-toxic-comment-classification-challenge/download/test.csv.zip\n",
      "\n",
      "test.csv.zip 100% |##################################| Time: 0:00:01  14.0 MiB/s\n",
      "\n",
      "downloading https://www.kaggle.com/c/jigsaw-toxic-comment-classification-challenge/download/train.csv.zip\n",
      "\n",
      "train.csv.zip 100% |#################################| Time: 0:00:01  16.7 MiB/s\n",
      "\n"
     ]
    }
   ],
   "source": [
    "! kg download -u 'cerdgio86@gmail.com' -p '68918082' -c 'jigsaw-toxic-comment-classification-challenge'"
   ]
  },
  {
   "cell_type": "code",
   "execution_count": 7,
   "metadata": {
    "collapsed": false,
    "deletable": true,
    "editable": true
   },
   "outputs": [
    {
     "name": "stdout",
     "output_type": "stream",
     "text": [
      "Archive:  train.csv.zip\n",
      "  inflating: train.csv               \n"
     ]
    }
   ],
   "source": [
    "! unzip train.csv.zip"
   ]
  },
  {
   "cell_type": "code",
   "execution_count": 8,
   "metadata": {
    "collapsed": false,
    "deletable": true,
    "editable": true
   },
   "outputs": [
    {
     "name": "stdout",
     "output_type": "stream",
     "text": [
      "Archive:  test.csv.zip\n",
      "  inflating: test.csv                \n",
      "Archive:  sample_submission.csv.zip\n",
      "  inflating: sample_submission.csv   \n"
     ]
    }
   ],
   "source": [
    "! unzip test.csv.zip\n",
    "! unzip sample_submission.csv.zip"
   ]
  },
  {
   "cell_type": "code",
   "execution_count": null,
   "metadata": {
    "collapsed": true,
    "deletable": true,
    "editable": true
   },
   "outputs": [],
   "source": []
  }
 ],
 "metadata": {
  "kernelspec": {
   "display_name": "Python 3",
   "language": "python",
   "name": "python3"
  },
  "language_info": {
   "codemirror_mode": {
    "name": "ipython",
    "version": 3
   },
   "file_extension": ".py",
   "mimetype": "text/x-python",
   "name": "python",
   "nbconvert_exporter": "python",
   "pygments_lexer": "ipython3",
   "version": "3.5.2"
  }
 },
 "nbformat": 4,
 "nbformat_minor": 2
}
