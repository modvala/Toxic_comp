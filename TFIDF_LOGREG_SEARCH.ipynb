{
 "cells": [
  {
   "cell_type": "code",
   "execution_count": 1,
   "metadata": {
    "collapsed": true
   },
   "outputs": [],
   "source": [
    "import pandas as pd\n",
    "from sklearn.feature_extraction.text import TfidfVectorizer, CountVectorizer, TfidfTransformer\n",
    "from sklearn.metrics import log_loss\n",
    "import numpy as np\n",
    "from sklearn.linear_model import LogisticRegression\n",
    "\n",
    "from sklearn.pipeline import Pipeline\n",
    "from sklearn.model_selection import cross_val_predict, RandomizedSearchCV\n",
    "\n",
    "from gc import collect"
   ]
  },
  {
   "cell_type": "code",
   "execution_count": 11,
   "metadata": {
    "collapsed": true
   },
   "outputs": [],
   "source": [
    "TARGET = ['identity_hate', 'insult', 'obscene','severe_toxic', 'threat', 'toxic']"
   ]
  },
  {
   "cell_type": "code",
   "execution_count": 15,
   "metadata": {
    "collapsed": false
   },
   "outputs": [
    {
     "name": "stdout",
     "output_type": "stream",
     "text": [
      "(312735, 8)\n"
     ]
    },
    {
     "data": {
      "text/html": [
       "<div>\n",
       "<table border=\"1\" class=\"dataframe\">\n",
       "  <thead>\n",
       "    <tr style=\"text-align: right;\">\n",
       "      <th></th>\n",
       "      <th>comment_text</th>\n",
       "      <th>identity_hate</th>\n",
       "      <th>insult</th>\n",
       "      <th>obscene</th>\n",
       "      <th>severe_toxic</th>\n",
       "      <th>threat</th>\n",
       "      <th>toxic</th>\n",
       "      <th>train</th>\n",
       "    </tr>\n",
       "    <tr>\n",
       "      <th>id</th>\n",
       "      <th></th>\n",
       "      <th></th>\n",
       "      <th></th>\n",
       "      <th></th>\n",
       "      <th></th>\n",
       "      <th></th>\n",
       "      <th></th>\n",
       "      <th></th>\n",
       "    </tr>\n",
       "  </thead>\n",
       "  <tbody>\n",
       "    <tr>\n",
       "      <th>0000997932d777bf</th>\n",
       "      <td>Explanation\\nWhy the edits made under my usern...</td>\n",
       "      <td>0.0</td>\n",
       "      <td>0.0</td>\n",
       "      <td>0.0</td>\n",
       "      <td>0.0</td>\n",
       "      <td>0.0</td>\n",
       "      <td>0.0</td>\n",
       "      <td>1.0</td>\n",
       "    </tr>\n",
       "    <tr>\n",
       "      <th>000103f0d9cfb60f</th>\n",
       "      <td>D'aww! He matches this background colour I'm s...</td>\n",
       "      <td>0.0</td>\n",
       "      <td>0.0</td>\n",
       "      <td>0.0</td>\n",
       "      <td>0.0</td>\n",
       "      <td>0.0</td>\n",
       "      <td>0.0</td>\n",
       "      <td>1.0</td>\n",
       "    </tr>\n",
       "    <tr>\n",
       "      <th>000113f07ec002fd</th>\n",
       "      <td>Hey man, I'm really not trying to edit war. It...</td>\n",
       "      <td>0.0</td>\n",
       "      <td>0.0</td>\n",
       "      <td>0.0</td>\n",
       "      <td>0.0</td>\n",
       "      <td>0.0</td>\n",
       "      <td>0.0</td>\n",
       "      <td>1.0</td>\n",
       "    </tr>\n",
       "    <tr>\n",
       "      <th>0001b41b1c6bb37e</th>\n",
       "      <td>\"\\nMore\\nI can't make any real suggestions on ...</td>\n",
       "      <td>0.0</td>\n",
       "      <td>0.0</td>\n",
       "      <td>0.0</td>\n",
       "      <td>0.0</td>\n",
       "      <td>0.0</td>\n",
       "      <td>0.0</td>\n",
       "      <td>1.0</td>\n",
       "    </tr>\n",
       "    <tr>\n",
       "      <th>0001d958c54c6e35</th>\n",
       "      <td>You, sir, are my hero. Any chance you remember...</td>\n",
       "      <td>0.0</td>\n",
       "      <td>0.0</td>\n",
       "      <td>0.0</td>\n",
       "      <td>0.0</td>\n",
       "      <td>0.0</td>\n",
       "      <td>0.0</td>\n",
       "      <td>1.0</td>\n",
       "    </tr>\n",
       "  </tbody>\n",
       "</table>\n",
       "</div>"
      ],
      "text/plain": [
       "                                                       comment_text  \\\n",
       "id                                                                    \n",
       "0000997932d777bf  Explanation\\nWhy the edits made under my usern...   \n",
       "000103f0d9cfb60f  D'aww! He matches this background colour I'm s...   \n",
       "000113f07ec002fd  Hey man, I'm really not trying to edit war. It...   \n",
       "0001b41b1c6bb37e  \"\\nMore\\nI can't make any real suggestions on ...   \n",
       "0001d958c54c6e35  You, sir, are my hero. Any chance you remember...   \n",
       "\n",
       "                  identity_hate  insult  obscene  severe_toxic  threat  toxic  \\\n",
       "id                                                                              \n",
       "0000997932d777bf            0.0     0.0      0.0           0.0     0.0    0.0   \n",
       "000103f0d9cfb60f            0.0     0.0      0.0           0.0     0.0    0.0   \n",
       "000113f07ec002fd            0.0     0.0      0.0           0.0     0.0    0.0   \n",
       "0001b41b1c6bb37e            0.0     0.0      0.0           0.0     0.0    0.0   \n",
       "0001d958c54c6e35            0.0     0.0      0.0           0.0     0.0    0.0   \n",
       "\n",
       "                  train  \n",
       "id                       \n",
       "0000997932d777bf    1.0  \n",
       "000103f0d9cfb60f    1.0  \n",
       "000113f07ec002fd    1.0  \n",
       "0001b41b1c6bb37e    1.0  \n",
       "0001d958c54c6e35    1.0  "
      ]
     },
     "execution_count": 15,
     "metadata": {},
     "output_type": "execute_result"
    }
   ],
   "source": [
    "data =  pd.read_csv('data/train.csv', sep=',', index_col='id')\n",
    "data['train'] = 1\n",
    "data = pd.concat([data, pd.read_csv('data/test.csv', sep=',', index_col='id')], axis=0)\n",
    "data.train.fillna(0, inplace=True)\n",
    "print(data.shape)\n",
    "data.head()"
   ]
  },
  {
   "cell_type": "code",
   "execution_count": 56,
   "metadata": {
    "collapsed": false
   },
   "outputs": [],
   "source": [
    "pipe = Pipeline([('tfidf', TfidfVectorizer()), ('lg', LogisticRegression())])"
   ]
  },
  {
   "cell_type": "code",
   "execution_count": 59,
   "metadata": {
    "collapsed": false
   },
   "outputs": [],
   "source": [
    "space = {\n",
    " 'lg__C': [.0001, .001, .01, .1, 1.0, 10, 100, 1000],\n",
    " 'lg__class_weight': [{1:2, 0:1},{1:3, 0:1}, {1:4, 0:1}, 'balanced', None],\n",
    " 'lg__fit_intercept': [True,False],\n",
    " 'lg__max_iter': [100, 200, 300, 500, 1000],\n",
    " 'lg__penalty': ['l2', 'l1'],\n",
    " 'lg__random_state': [234],\n",
    " 'lg__tol': [0.0001, .001, .01],\n",
    " 'lg__warm_start': [False,True],\n",
    " #'tfidf__analyzer': 'word',\n",
    " 'tfidf__binary': [False,True],\n",
    " 'tfidf__decode_error': ['ignore'],\n",
    " #'tfidf__input': 'content',\n",
    " 'tfidf__lowercase': [False,True],\n",
    " 'tfidf__max_df': list(np.linspace(0.8, 1.0, 20)),\n",
    " 'tfidf__max_features': [10000, None],\n",
    " 'tfidf__min_df': [1, 5, 10, 20, 30, 50, 100],\n",
    " 'tfidf__ngram_range': [(1, 1), (2, 1), (3, 1), (2, 2), (3, 2),(3, 3), (4, 1)],\n",
    " 'tfidf__norm': ['l2','l1', None],\n",
    " 'tfidf__smooth_idf': [False,True],\n",
    " #'tfidf__stop_words': None,\n",
    " #'tfidf__strip_accents': None,\n",
    " 'tfidf__sublinear_tf': [False,True],\n",
    " #'tfidf__token_pattern': '(?u)\\\\b\\\\w\\\\w+\\\\b',\n",
    " 'tfidf__use_idf': [False,True]\n",
    " #'tfidf__vocabulary': None\n",
    "        }"
   ]
  },
  {
   "cell_type": "code",
   "execution_count": null,
   "metadata": {
    "collapsed": false
   },
   "outputs": [
    {
     "name": "stdout",
     "output_type": "stream",
     "text": [
      "identity_hate\n",
      "Fitting 5 folds for each of 200 candidates, totalling 1000 fits\n",
      "[CV] tfidf__use_idf=False, tfidf__sublinear_tf=False, tfidf__smooth_idf=False, tfidf__norm=None, tfidf__ngram_range=(3, 3), tfidf__min_df=10, tfidf__max_features=10000, tfidf__max_df=0.894736842105, tfidf__lowercase=True, tfidf__decode_error=ignore, tfidf__binary=True, lg__warm_start=False, lg__tol=0.01, lg__random_state=234, lg__penalty=l1, lg__max_iter=500, lg__fit_intercept=False, lg__class_weight={1: 2, 0: 1}, lg__C=0.001 \n",
      "[CV]  tfidf__use_idf=False, tfidf__sublinear_tf=False, tfidf__smooth_idf=False, tfidf__norm=None, tfidf__ngram_range=(3, 3), tfidf__min_df=10, tfidf__max_features=10000, tfidf__max_df=0.894736842105, tfidf__lowercase=True, tfidf__decode_error=ignore, tfidf__binary=True, lg__warm_start=False, lg__tol=0.01, lg__random_state=234, lg__penalty=l1, lg__max_iter=500, lg__fit_intercept=False, lg__class_weight={1: 2, 0: 1}, lg__C=0.001, score=-0.676797, total= 3.1min\n"
     ]
    },
    {
     "name": "stderr",
     "output_type": "stream",
     "text": [
      "[Parallel(n_jobs=1)]: Done   1 out of   1 | elapsed:  4.3min remaining:    0.0s\n"
     ]
    },
    {
     "name": "stdout",
     "output_type": "stream",
     "text": [
      "[CV] tfidf__use_idf=False, tfidf__sublinear_tf=False, tfidf__smooth_idf=False, tfidf__norm=None, tfidf__ngram_range=(3, 3), tfidf__min_df=10, tfidf__max_features=10000, tfidf__max_df=0.894736842105, tfidf__lowercase=True, tfidf__decode_error=ignore, tfidf__binary=True, lg__warm_start=False, lg__tol=0.01, lg__random_state=234, lg__penalty=l1, lg__max_iter=500, lg__fit_intercept=False, lg__class_weight={1: 2, 0: 1}, lg__C=0.001 \n",
      "[CV]  tfidf__use_idf=False, tfidf__sublinear_tf=False, tfidf__smooth_idf=False, tfidf__norm=None, tfidf__ngram_range=(3, 3), tfidf__min_df=10, tfidf__max_features=10000, tfidf__max_df=0.894736842105, tfidf__lowercase=True, tfidf__decode_error=ignore, tfidf__binary=True, lg__warm_start=False, lg__tol=0.01, lg__random_state=234, lg__penalty=l1, lg__max_iter=500, lg__fit_intercept=False, lg__class_weight={1: 2, 0: 1}, lg__C=0.001, score=-0.676957, total= 2.8min\n"
     ]
    },
    {
     "name": "stderr",
     "output_type": "stream",
     "text": [
      "[Parallel(n_jobs=1)]: Done   2 out of   2 | elapsed:  8.2min remaining:    0.0s\n"
     ]
    },
    {
     "name": "stdout",
     "output_type": "stream",
     "text": [
      "[CV] tfidf__use_idf=False, tfidf__sublinear_tf=False, tfidf__smooth_idf=False, tfidf__norm=None, tfidf__ngram_range=(3, 3), tfidf__min_df=10, tfidf__max_features=10000, tfidf__max_df=0.894736842105, tfidf__lowercase=True, tfidf__decode_error=ignore, tfidf__binary=True, lg__warm_start=False, lg__tol=0.01, lg__random_state=234, lg__penalty=l1, lg__max_iter=500, lg__fit_intercept=False, lg__class_weight={1: 2, 0: 1}, lg__C=0.001 \n",
      "[CV]  tfidf__use_idf=False, tfidf__sublinear_tf=False, tfidf__smooth_idf=False, tfidf__norm=None, tfidf__ngram_range=(3, 3), tfidf__min_df=10, tfidf__max_features=10000, tfidf__max_df=0.894736842105, tfidf__lowercase=True, tfidf__decode_error=ignore, tfidf__binary=True, lg__warm_start=False, lg__tol=0.01, lg__random_state=234, lg__penalty=l1, lg__max_iter=500, lg__fit_intercept=False, lg__class_weight={1: 2, 0: 1}, lg__C=0.001, score=-0.676665, total= 2.5min\n",
      "[CV] tfidf__use_idf=False, tfidf__sublinear_tf=False, tfidf__smooth_idf=False, tfidf__norm=None, tfidf__ngram_range=(3, 3), tfidf__min_df=10, tfidf__max_features=10000, tfidf__max_df=0.894736842105, tfidf__lowercase=True, tfidf__decode_error=ignore, tfidf__binary=True, lg__warm_start=False, lg__tol=0.01, lg__random_state=234, lg__penalty=l1, lg__max_iter=500, lg__fit_intercept=False, lg__class_weight={1: 2, 0: 1}, lg__C=0.001 \n",
      "[CV]  tfidf__use_idf=False, tfidf__sublinear_tf=False, tfidf__smooth_idf=False, tfidf__norm=None, tfidf__ngram_range=(3, 3), tfidf__min_df=10, tfidf__max_features=10000, tfidf__max_df=0.894736842105, tfidf__lowercase=True, tfidf__decode_error=ignore, tfidf__binary=True, lg__warm_start=False, lg__tol=0.01, lg__random_state=234, lg__penalty=l1, lg__max_iter=500, lg__fit_intercept=False, lg__class_weight={1: 2, 0: 1}, lg__C=0.001, score=-0.677066, total= 2.5min\n",
      "[CV] tfidf__use_idf=False, tfidf__sublinear_tf=False, tfidf__smooth_idf=False, tfidf__norm=None, tfidf__ngram_range=(3, 3), tfidf__min_df=10, tfidf__max_features=10000, tfidf__max_df=0.894736842105, tfidf__lowercase=True, tfidf__decode_error=ignore, tfidf__binary=True, lg__warm_start=False, lg__tol=0.01, lg__random_state=234, lg__penalty=l1, lg__max_iter=500, lg__fit_intercept=False, lg__class_weight={1: 2, 0: 1}, lg__C=0.001 \n",
      "[CV]  tfidf__use_idf=False, tfidf__sublinear_tf=False, tfidf__smooth_idf=False, tfidf__norm=None, tfidf__ngram_range=(3, 3), tfidf__min_df=10, tfidf__max_features=10000, tfidf__max_df=0.894736842105, tfidf__lowercase=True, tfidf__decode_error=ignore, tfidf__binary=True, lg__warm_start=False, lg__tol=0.01, lg__random_state=234, lg__penalty=l1, lg__max_iter=500, lg__fit_intercept=False, lg__class_weight={1: 2, 0: 1}, lg__C=0.001, score=-0.676562, total= 2.5min\n",
      "[CV] tfidf__use_idf=False, tfidf__sublinear_tf=False, tfidf__smooth_idf=True, tfidf__norm=None, tfidf__ngram_range=(3, 1), tfidf__min_df=100, tfidf__max_features=10000, tfidf__max_df=1.0, tfidf__lowercase=False, tfidf__decode_error=ignore, tfidf__binary=True, lg__warm_start=True, lg__tol=0.0001, lg__random_state=234, lg__penalty=l2, lg__max_iter=500, lg__fit_intercept=False, lg__class_weight={1: 2, 0: 1}, lg__C=0.0001 \n",
      "[CV]  tfidf__use_idf=False, tfidf__sublinear_tf=False, tfidf__smooth_idf=True, tfidf__norm=None, tfidf__ngram_range=(3, 1), tfidf__min_df=100, tfidf__max_features=10000, tfidf__max_df=1.0, tfidf__lowercase=False, tfidf__decode_error=ignore, tfidf__binary=True, lg__warm_start=True, lg__tol=0.0001, lg__random_state=234, lg__penalty=l2, lg__max_iter=500, lg__fit_intercept=False, lg__class_weight={1: 2, 0: 1}, lg__C=0.0001, score=-0.191606, total=  47.8s\n",
      "[CV] tfidf__use_idf=False, tfidf__sublinear_tf=False, tfidf__smooth_idf=True, tfidf__norm=None, tfidf__ngram_range=(3, 1), tfidf__min_df=100, tfidf__max_features=10000, tfidf__max_df=1.0, tfidf__lowercase=False, tfidf__decode_error=ignore, tfidf__binary=True, lg__warm_start=True, lg__tol=0.0001, lg__random_state=234, lg__penalty=l2, lg__max_iter=500, lg__fit_intercept=False, lg__class_weight={1: 2, 0: 1}, lg__C=0.0001 \n",
      "[CV]  tfidf__use_idf=False, tfidf__sublinear_tf=False, tfidf__smooth_idf=True, tfidf__norm=None, tfidf__ngram_range=(3, 1), tfidf__min_df=100, tfidf__max_features=10000, tfidf__max_df=1.0, tfidf__lowercase=False, tfidf__decode_error=ignore, tfidf__binary=True, lg__warm_start=True, lg__tol=0.0001, lg__random_state=234, lg__penalty=l2, lg__max_iter=500, lg__fit_intercept=False, lg__class_weight={1: 2, 0: 1}, lg__C=0.0001, score=-0.189977, total=  47.5s\n",
      "[CV] tfidf__use_idf=False, tfidf__sublinear_tf=False, tfidf__smooth_idf=True, tfidf__norm=None, tfidf__ngram_range=(3, 1), tfidf__min_df=100, tfidf__max_features=10000, tfidf__max_df=1.0, tfidf__lowercase=False, tfidf__decode_error=ignore, tfidf__binary=True, lg__warm_start=True, lg__tol=0.0001, lg__random_state=234, lg__penalty=l2, lg__max_iter=500, lg__fit_intercept=False, lg__class_weight={1: 2, 0: 1}, lg__C=0.0001 \n",
      "[CV]  tfidf__use_idf=False, tfidf__sublinear_tf=False, tfidf__smooth_idf=True, tfidf__norm=None, tfidf__ngram_range=(3, 1), tfidf__min_df=100, tfidf__max_features=10000, tfidf__max_df=1.0, tfidf__lowercase=False, tfidf__decode_error=ignore, tfidf__binary=True, lg__warm_start=True, lg__tol=0.0001, lg__random_state=234, lg__penalty=l2, lg__max_iter=500, lg__fit_intercept=False, lg__class_weight={1: 2, 0: 1}, lg__C=0.0001, score=-0.193713, total=  47.4s\n",
      "[CV] tfidf__use_idf=False, tfidf__sublinear_tf=False, tfidf__smooth_idf=True, tfidf__norm=None, tfidf__ngram_range=(3, 1), tfidf__min_df=100, tfidf__max_features=10000, tfidf__max_df=1.0, tfidf__lowercase=False, tfidf__decode_error=ignore, tfidf__binary=True, lg__warm_start=True, lg__tol=0.0001, lg__random_state=234, lg__penalty=l2, lg__max_iter=500, lg__fit_intercept=False, lg__class_weight={1: 2, 0: 1}, lg__C=0.0001 \n",
      "[CV]  tfidf__use_idf=False, tfidf__sublinear_tf=False, tfidf__smooth_idf=True, tfidf__norm=None, tfidf__ngram_range=(3, 1), tfidf__min_df=100, tfidf__max_features=10000, tfidf__max_df=1.0, tfidf__lowercase=False, tfidf__decode_error=ignore, tfidf__binary=True, lg__warm_start=True, lg__tol=0.0001, lg__random_state=234, lg__penalty=l2, lg__max_iter=500, lg__fit_intercept=False, lg__class_weight={1: 2, 0: 1}, lg__C=0.0001, score=-0.193036, total=  47.3s\n",
      "[CV] tfidf__use_idf=False, tfidf__sublinear_tf=False, tfidf__smooth_idf=True, tfidf__norm=None, tfidf__ngram_range=(3, 1), tfidf__min_df=100, tfidf__max_features=10000, tfidf__max_df=1.0, tfidf__lowercase=False, tfidf__decode_error=ignore, tfidf__binary=True, lg__warm_start=True, lg__tol=0.0001, lg__random_state=234, lg__penalty=l2, lg__max_iter=500, lg__fit_intercept=False, lg__class_weight={1: 2, 0: 1}, lg__C=0.0001 \n",
      "[CV]  tfidf__use_idf=False, tfidf__sublinear_tf=False, tfidf__smooth_idf=True, tfidf__norm=None, tfidf__ngram_range=(3, 1), tfidf__min_df=100, tfidf__max_features=10000, tfidf__max_df=1.0, tfidf__lowercase=False, tfidf__decode_error=ignore, tfidf__binary=True, lg__warm_start=True, lg__tol=0.0001, lg__random_state=234, lg__penalty=l2, lg__max_iter=500, lg__fit_intercept=False, lg__class_weight={1: 2, 0: 1}, lg__C=0.0001, score=-0.190887, total=  47.4s\n",
      "[CV] tfidf__use_idf=True, tfidf__sublinear_tf=False, tfidf__smooth_idf=False, tfidf__norm=None, tfidf__ngram_range=(4, 1), tfidf__min_df=100, tfidf__max_features=None, tfidf__max_df=0.831578947368, tfidf__lowercase=False, tfidf__decode_error=ignore, tfidf__binary=False, lg__warm_start=False, lg__tol=0.0001, lg__random_state=234, lg__penalty=l1, lg__max_iter=300, lg__fit_intercept=False, lg__class_weight={1: 3, 0: 1}, lg__C=10 \n"
     ]
    }
   ],
   "source": [
    "score = []\n",
    "rnd = RandomizedSearchCV(pipe, param_distributions=space, n_iter=200, scoring='neg_log_loss', \n",
    "                       cv = 5, verbose=3, random_state=234)\n",
    "for i, tar in enumerate(TARGET):\n",
    "    print(tar)\n",
    "    score.append(rnd.fit(data.loc[data.train==1, 'comment_text'], data.loc[data.train==1, tar].values))\n",
    "    pd.DataFrame(score[i].cv_results_).to_csv('metrics/grid_search_'+tar+'_.csv', sep=';', index=False)"
   ]
  },
  {
   "cell_type": "code",
   "execution_count": 47,
   "metadata": {
    "collapsed": false
   },
   "outputs": [],
   "source": [
    "pd.DataFrame(score[i].cv_results_).to_csv('grid_search_'+tar+'_.csv', sep=';', index=False)"
   ]
  },
  {
   "cell_type": "code",
   "execution_count": null,
   "metadata": {
    "collapsed": true
   },
   "outputs": [],
   "source": []
  }
 ],
 "metadata": {
  "kernelspec": {
   "display_name": "Python 3",
   "language": "python",
   "name": "python3"
  },
  "language_info": {
   "codemirror_mode": {
    "name": "ipython",
    "version": 3
   },
   "file_extension": ".py",
   "mimetype": "text/x-python",
   "name": "python",
   "nbconvert_exporter": "python",
   "pygments_lexer": "ipython3",
   "version": "3.6.0"
  }
 },
 "nbformat": 4,
 "nbformat_minor": 2
}
