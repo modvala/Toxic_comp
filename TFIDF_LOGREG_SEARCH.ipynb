{
 "cells": [
  {
   "cell_type": "code",
   "execution_count": 36,
   "metadata": {
    "collapsed": false,
    "deletable": true,
    "editable": true
   },
   "outputs": [
    {
     "name": "stdout",
     "output_type": "stream",
     "text": [
      "Collecting joblib\n",
      "  Using cached joblib-0.11-py2.py3-none-any.whl\n",
      "Installing collected packages: joblib\n",
      "Successfully installed joblib-0.11\n",
      "\u001b[33mYou are using pip version 8.1.1, however version 9.0.1 is available.\n",
      "You should consider upgrading via the 'pip install --upgrade pip' command.\u001b[0m\n"
     ]
    }
   ],
   "source": [
    "! pip install joblib"
   ]
  },
  {
   "cell_type": "code",
   "execution_count": 39,
   "metadata": {
    "collapsed": false,
    "deletable": true,
    "editable": true
   },
   "outputs": [],
   "source": [
    "import pandas as pd\n",
    "from sklearn.feature_extraction.text import TfidfVectorizer, CountVectorizer, TfidfTransformer\n",
    "from sklearn.metrics import log_loss\n",
    "import numpy as np\n",
    "from sklearn.linear_model import LogisticRegression\n",
    "\n",
    "from sklearn.pipeline import Pipeline\n",
    "from sklearn.model_selection import cross_val_predict, RandomizedSearchCV, GridSearchCV\n",
    "\n",
    "from gc import collect\n",
    "\n",
    "import time\n",
    "import joblib"
   ]
  },
  {
   "cell_type": "code",
   "execution_count": 40,
   "metadata": {
    "collapsed": true,
    "deletable": true,
    "editable": true
   },
   "outputs": [],
   "source": [
    "TARGET = ['identity_hate', 'insult', 'obscene','severe_toxic', 'threat', 'toxic']"
   ]
  },
  {
   "cell_type": "code",
   "execution_count": 5,
   "metadata": {
    "collapsed": false,
    "deletable": true,
    "editable": true
   },
   "outputs": [
    {
     "name": "stdout",
     "output_type": "stream",
     "text": [
      "(312735, 8)\n"
     ]
    },
    {
     "data": {
      "text/html": [
       "<div>\n",
       "<table border=\"1\" class=\"dataframe\">\n",
       "  <thead>\n",
       "    <tr style=\"text-align: right;\">\n",
       "      <th></th>\n",
       "      <th>comment_text</th>\n",
       "      <th>identity_hate</th>\n",
       "      <th>insult</th>\n",
       "      <th>obscene</th>\n",
       "      <th>severe_toxic</th>\n",
       "      <th>threat</th>\n",
       "      <th>toxic</th>\n",
       "      <th>train</th>\n",
       "    </tr>\n",
       "    <tr>\n",
       "      <th>id</th>\n",
       "      <th></th>\n",
       "      <th></th>\n",
       "      <th></th>\n",
       "      <th></th>\n",
       "      <th></th>\n",
       "      <th></th>\n",
       "      <th></th>\n",
       "      <th></th>\n",
       "    </tr>\n",
       "  </thead>\n",
       "  <tbody>\n",
       "    <tr>\n",
       "      <th>0000997932d777bf</th>\n",
       "      <td>Explanation\\nWhy the edits made under my usern...</td>\n",
       "      <td>0.0</td>\n",
       "      <td>0.0</td>\n",
       "      <td>0.0</td>\n",
       "      <td>0.0</td>\n",
       "      <td>0.0</td>\n",
       "      <td>0.0</td>\n",
       "      <td>1.0</td>\n",
       "    </tr>\n",
       "    <tr>\n",
       "      <th>000103f0d9cfb60f</th>\n",
       "      <td>D'aww! He matches this background colour I'm s...</td>\n",
       "      <td>0.0</td>\n",
       "      <td>0.0</td>\n",
       "      <td>0.0</td>\n",
       "      <td>0.0</td>\n",
       "      <td>0.0</td>\n",
       "      <td>0.0</td>\n",
       "      <td>1.0</td>\n",
       "    </tr>\n",
       "    <tr>\n",
       "      <th>000113f07ec002fd</th>\n",
       "      <td>Hey man, I'm really not trying to edit war. It...</td>\n",
       "      <td>0.0</td>\n",
       "      <td>0.0</td>\n",
       "      <td>0.0</td>\n",
       "      <td>0.0</td>\n",
       "      <td>0.0</td>\n",
       "      <td>0.0</td>\n",
       "      <td>1.0</td>\n",
       "    </tr>\n",
       "    <tr>\n",
       "      <th>0001b41b1c6bb37e</th>\n",
       "      <td>\"\\nMore\\nI can't make any real suggestions on ...</td>\n",
       "      <td>0.0</td>\n",
       "      <td>0.0</td>\n",
       "      <td>0.0</td>\n",
       "      <td>0.0</td>\n",
       "      <td>0.0</td>\n",
       "      <td>0.0</td>\n",
       "      <td>1.0</td>\n",
       "    </tr>\n",
       "    <tr>\n",
       "      <th>0001d958c54c6e35</th>\n",
       "      <td>You, sir, are my hero. Any chance you remember...</td>\n",
       "      <td>0.0</td>\n",
       "      <td>0.0</td>\n",
       "      <td>0.0</td>\n",
       "      <td>0.0</td>\n",
       "      <td>0.0</td>\n",
       "      <td>0.0</td>\n",
       "      <td>1.0</td>\n",
       "    </tr>\n",
       "  </tbody>\n",
       "</table>\n",
       "</div>"
      ],
      "text/plain": [
       "                                                       comment_text  \\\n",
       "id                                                                    \n",
       "0000997932d777bf  Explanation\\nWhy the edits made under my usern...   \n",
       "000103f0d9cfb60f  D'aww! He matches this background colour I'm s...   \n",
       "000113f07ec002fd  Hey man, I'm really not trying to edit war. It...   \n",
       "0001b41b1c6bb37e  \"\\nMore\\nI can't make any real suggestions on ...   \n",
       "0001d958c54c6e35  You, sir, are my hero. Any chance you remember...   \n",
       "\n",
       "                  identity_hate  insult  obscene  severe_toxic  threat  toxic  \\\n",
       "id                                                                              \n",
       "0000997932d777bf            0.0     0.0      0.0           0.0     0.0    0.0   \n",
       "000103f0d9cfb60f            0.0     0.0      0.0           0.0     0.0    0.0   \n",
       "000113f07ec002fd            0.0     0.0      0.0           0.0     0.0    0.0   \n",
       "0001b41b1c6bb37e            0.0     0.0      0.0           0.0     0.0    0.0   \n",
       "0001d958c54c6e35            0.0     0.0      0.0           0.0     0.0    0.0   \n",
       "\n",
       "                  train  \n",
       "id                       \n",
       "0000997932d777bf    1.0  \n",
       "000103f0d9cfb60f    1.0  \n",
       "000113f07ec002fd    1.0  \n",
       "0001b41b1c6bb37e    1.0  \n",
       "0001d958c54c6e35    1.0  "
      ]
     },
     "execution_count": 5,
     "metadata": {},
     "output_type": "execute_result"
    }
   ],
   "source": [
    "data =  pd.read_csv('data/train.csv', sep=',', index_col='id')\n",
    "data['train'] = 1\n",
    "data = pd.concat([data, pd.read_csv('data/test.csv', sep=',', index_col='id')], axis=0)\n",
    "data.train.fillna(0, inplace=True)\n",
    "print(data.shape)\n",
    "data.head()"
   ]
  },
  {
   "cell_type": "code",
   "execution_count": 27,
   "metadata": {
    "collapsed": false,
    "deletable": true,
    "editable": true
   },
   "outputs": [],
   "source": [
    "pipe = Pipeline([('tfidf', TfidfVectorizer()), ('lg', LogisticRegression(random_state=234))])"
   ]
  },
  {
   "cell_type": "code",
   "execution_count": 7,
   "metadata": {
    "collapsed": false,
    "deletable": true,
    "editable": true
   },
   "outputs": [],
   "source": [
    "space = {\n",
    " 'lg__C': [.0001, .001, .01, .1, 1.0, 10, 100, 1000],\n",
    " 'lg__class_weight': [{1:2, 0:1},{1:3, 0:1}, {1:4, 0:1}, 'balanced', None],\n",
    " 'lg__fit_intercept': [True,False],\n",
    " 'lg__max_iter': [100, 200, 300, 500, 1000],\n",
    " 'lg__penalty': ['l2', 'l1'],\n",
    " 'lg__random_state': [234],\n",
    " 'lg__tol': [0.0001, .001, .01],\n",
    " 'lg__warm_start': [False,True],\n",
    " #'tfidf__analyzer': 'word',\n",
    "'tfidf__binary': [False,True],\n",
    " 'tfidf__decode_error': ['ignore'],\n",
    " #'tfidf__input': 'content',\n",
    " 'tfidf__lowercase': [False,True],\n",
    " 'tfidf__max_df': list(np.linspace(0.8, 1.0, 20)),\n",
    "# 'tfidf__max_features': [10000, None], may be it's false\n",
    " 'tfidf__min_df': [1, 5, 10, 20, 30, 50, 100],\n",
    " 'tfidf__ngram_range': [(1, 1), (2, 1), (2, 2)], #(3, 3), (4, 1) 3, 1), , (3, 2)\n",
    " 'tfidf__norm': ['l2','l1', None],\n",
    " 'tfidf__smooth_idf': [False,True],\n",
    " #'tfidf__stop_words': None,\n",
    " #'tfidf__strip_accents': None,\n",
    " 'tfidf__sublinear_tf': [False,True],\n",
    " #'tfidf__token_pattern': '(?u)\\\\b\\\\w\\\\w+\\\\b',\n",
    " 'tfidf__use_idf': [False,True]\n",
    " #'tfidf__vocabulary': None\n",
    "        }"
   ]
  },
  {
   "cell_type": "code",
   "execution_count": null,
   "metadata": {
    "collapsed": false,
    "deletable": true,
    "editable": true
   },
   "outputs": [
    {
     "name": "stdout",
     "output_type": "stream",
     "text": [
      "identity_hate tfidf__max_df 19:49\n",
      "identity_hate tfidf__smooth_idf 20:02\n",
      "identity_hate tfidf__binary 20:04\n",
      "identity_hate tfidf__decode_error 20:05\n",
      "identity_hate tfidf__use_idf 20:06\n",
      "identity_hate tfidf__norm 20:08\n"
     ]
    },
    {
     "name": "stderr",
     "output_type": "stream",
     "text": [
      "/anaconda/envs/py35/lib/python3.5/site-packages/sklearn/linear_model/base.py:352: RuntimeWarning: overflow encountered in exp\n",
      "  np.exp(prob, prob)\n",
      "/anaconda/envs/py35/lib/python3.5/site-packages/sklearn/linear_model/base.py:352: RuntimeWarning: overflow encountered in exp\n",
      "  np.exp(prob, prob)\n",
      "/anaconda/envs/py35/lib/python3.5/site-packages/sklearn/linear_model/base.py:352: RuntimeWarning: overflow encountered in exp\n",
      "  np.exp(prob, prob)\n",
      "/anaconda/envs/py35/lib/python3.5/site-packages/sklearn/linear_model/base.py:352: RuntimeWarning: overflow encountered in exp\n",
      "  np.exp(prob, prob)\n",
      "/anaconda/envs/py35/lib/python3.5/site-packages/sklearn/linear_model/base.py:352: RuntimeWarning: overflow encountered in exp\n",
      "  np.exp(prob, prob)\n"
     ]
    },
    {
     "name": "stdout",
     "output_type": "stream",
     "text": [
      "identity_hate tfidf__min_df 20:11\n",
      "identity_hate tfidf__sublinear_tf 20:16\n",
      "identity_hate tfidf__ngram_range 20:17\n",
      "identity_hate tfidf__lowercase 20:19\n",
      "insult tfidf__max_df 20:20\n",
      "insult tfidf__smooth_idf 20:35\n",
      "insult tfidf__binary 20:37\n",
      "insult tfidf__decode_error 20:38\n",
      "insult tfidf__use_idf 20:39\n",
      "insult tfidf__norm 20:41\n"
     ]
    },
    {
     "name": "stderr",
     "output_type": "stream",
     "text": [
      "/anaconda/envs/py35/lib/python3.5/site-packages/sklearn/linear_model/base.py:352: RuntimeWarning: overflow encountered in exp\n",
      "  np.exp(prob, prob)\n",
      "/anaconda/envs/py35/lib/python3.5/site-packages/sklearn/linear_model/base.py:352: RuntimeWarning: overflow encountered in exp\n",
      "  np.exp(prob, prob)\n",
      "/anaconda/envs/py35/lib/python3.5/site-packages/sklearn/linear_model/base.py:352: RuntimeWarning: overflow encountered in exp\n",
      "  np.exp(prob, prob)\n",
      "/anaconda/envs/py35/lib/python3.5/site-packages/sklearn/linear_model/base.py:352: RuntimeWarning: overflow encountered in exp\n",
      "  np.exp(prob, prob)\n",
      "/anaconda/envs/py35/lib/python3.5/site-packages/sklearn/linear_model/base.py:352: RuntimeWarning: overflow encountered in exp\n",
      "  np.exp(prob, prob)\n"
     ]
    },
    {
     "name": "stdout",
     "output_type": "stream",
     "text": [
      "insult tfidf__min_df 20:45\n",
      "insult tfidf__sublinear_tf 20:49\n",
      "insult tfidf__ngram_range 20:50\n",
      "insult tfidf__lowercase 20:53\n",
      "obscene tfidf__max_df 20:54\n",
      "obscene tfidf__smooth_idf 21:09\n",
      "obscene tfidf__binary 21:10\n",
      "obscene tfidf__decode_error 21:12\n",
      "obscene tfidf__use_idf 21:13\n",
      "obscene tfidf__norm 21:14\n",
      "obscene tfidf__min_df 21:18\n",
      "obscene tfidf__sublinear_tf 21:22\n",
      "obscene tfidf__ngram_range 21:24\n",
      "obscene tfidf__lowercase 21:26\n"
     ]
    }
   ],
   "source": [
    "np.random.seed(234)\n",
    "\n",
    "for i, tar in enumerate(TARGET):\n",
    "    flag_app = True\n",
    "    estimator = pipe\n",
    "    for key in space.keys():\n",
    "        if 'lg' not in key:\n",
    "            print(tar, key, time.strftime('%H:%M'))\n",
    "            grid = GridSearchCV(estimator, param_grid={k:v for k, v in space.items() if k == key}\n",
    "                                , scoring='neg_log_loss', \n",
    "                           cv = 5, verbose=0, n_jobs = 5)\n",
    "            grid.fit(data.loc[data.train==1, 'comment_text'], data.loc[data.train==1, tar].values)\n",
    "            estimator = grid.best_estimator_\n",
    "            if flag_app:\n",
    "                pd.DataFrame(grid.cv_results_).to_csv('metrics/grid_search_'+tar+'_.csv', sep=';', index=False)\n",
    "                flag_app = False\n",
    "            else:\n",
    "                pd.DataFrame(grid.cv_results_).to_csv('metrics/grid_search_'+tar+'_.csv', mode='a', sep=';', index=False)\n",
    "    joblib.dump(estimator, 'models/best_model_tfidf_'+tar+'.pkl')"
   ]
  },
  {
   "cell_type": "code",
   "execution_count": null,
   "metadata": {
    "collapsed": true,
    "deletable": true,
    "editable": true
   },
   "outputs": [],
   "source": [
    "np.random.seed(234)\n",
    "\n",
    "for i, tar in enumerate(TARGET):\n",
    "    estimator = joblib.load('models/best_model_tfidf_'+tar+'.pkl')\n",
    "    for key in space.keys():\n",
    "        if 'lg' in key:\n",
    "            print(tar, key, time.strftime('%H:%M'))\n",
    "            grid = GridSearchCV(estimator, param_grid={k:v for k, v in space.items() if k == key}\n",
    "                                , scoring='neg_log_loss', \n",
    "                           cv = 5, verbose=0, n_jobs = 5)\n",
    "            grid.fit(data.loc[data.train==1, 'comment_text'], data.loc[data.train==1, tar].values)\n",
    "            estimator = grid.best_estimator_\n",
    "            if flag_app:\n",
    "                pd.DataFrame(grid.cv_results_).to_csv('metrics/grid_search_'+tar+'_.csv', sep=';', index=False)\n",
    "                flag_app = False\n",
    "            else:\n",
    "                pd.DataFrame(grid.cv_results_).to_csv('metrics/grid_search_'+tar+'_.csv', mode='a', sep=';', index=False)\n",
    "    joblib.dump(estimator, 'models/best_model_lr_'+tar+'.pkl')"
   ]
  },
  {
   "cell_type": "code",
   "execution_count": 45,
   "metadata": {
    "collapsed": false,
    "deletable": true,
    "editable": true
   },
   "outputs": [
    {
     "data": {
      "text/html": [
       "<div>\n",
       "<table border=\"1\" class=\"dataframe\">\n",
       "  <thead>\n",
       "    <tr style=\"text-align: right;\">\n",
       "      <th></th>\n",
       "      <th>toxic</th>\n",
       "      <th>severe_toxic</th>\n",
       "      <th>obscene</th>\n",
       "      <th>threat</th>\n",
       "      <th>insult</th>\n",
       "      <th>identity_hate</th>\n",
       "    </tr>\n",
       "    <tr>\n",
       "      <th>id</th>\n",
       "      <th></th>\n",
       "      <th></th>\n",
       "      <th></th>\n",
       "      <th></th>\n",
       "      <th></th>\n",
       "      <th></th>\n",
       "    </tr>\n",
       "  </thead>\n",
       "  <tbody>\n",
       "    <tr>\n",
       "      <th>00001cee341fdb12</th>\n",
       "      <td>0.999968</td>\n",
       "      <td>0.268023</td>\n",
       "      <td>0.999538</td>\n",
       "      <td>0.212522</td>\n",
       "      <td>0.971607</td>\n",
       "      <td>0.280666</td>\n",
       "    </tr>\n",
       "    <tr>\n",
       "      <th>0000247867823ef7</th>\n",
       "      <td>0.000655</td>\n",
       "      <td>0.001599</td>\n",
       "      <td>0.000212</td>\n",
       "      <td>0.000040</td>\n",
       "      <td>0.004851</td>\n",
       "      <td>0.000669</td>\n",
       "    </tr>\n",
       "    <tr>\n",
       "      <th>00013b17ad220c46</th>\n",
       "      <td>0.004070</td>\n",
       "      <td>0.001584</td>\n",
       "      <td>0.002914</td>\n",
       "      <td>0.000037</td>\n",
       "      <td>0.006084</td>\n",
       "      <td>0.000730</td>\n",
       "    </tr>\n",
       "    <tr>\n",
       "      <th>00017563c3f7919a</th>\n",
       "      <td>0.001320</td>\n",
       "      <td>0.002485</td>\n",
       "      <td>0.002222</td>\n",
       "      <td>0.000271</td>\n",
       "      <td>0.003697</td>\n",
       "      <td>0.000204</td>\n",
       "    </tr>\n",
       "    <tr>\n",
       "      <th>00017695ad8997eb</th>\n",
       "      <td>0.007529</td>\n",
       "      <td>0.003709</td>\n",
       "      <td>0.001754</td>\n",
       "      <td>0.001016</td>\n",
       "      <td>0.005635</td>\n",
       "      <td>0.000638</td>\n",
       "    </tr>\n",
       "  </tbody>\n",
       "</table>\n",
       "</div>"
      ],
      "text/plain": [
       "                     toxic  severe_toxic   obscene    threat    insult  \\\n",
       "id                                                                       \n",
       "00001cee341fdb12  0.999968      0.268023  0.999538  0.212522  0.971607   \n",
       "0000247867823ef7  0.000655      0.001599  0.000212  0.000040  0.004851   \n",
       "00013b17ad220c46  0.004070      0.001584  0.002914  0.000037  0.006084   \n",
       "00017563c3f7919a  0.001320      0.002485  0.002222  0.000271  0.003697   \n",
       "00017695ad8997eb  0.007529      0.003709  0.001754  0.001016  0.005635   \n",
       "\n",
       "                  identity_hate  \n",
       "id                               \n",
       "00001cee341fdb12       0.280666  \n",
       "0000247867823ef7       0.000669  \n",
       "00013b17ad220c46       0.000730  \n",
       "00017563c3f7919a       0.000204  \n",
       "00017695ad8997eb       0.000638  "
      ]
     },
     "execution_count": 45,
     "metadata": {},
     "output_type": "execute_result"
    }
   ],
   "source": [
    "submission = pd.read_csv('data/sample_submission.csv', sep=',', index_col='id')\n",
    "for i, tar in enumerate(TARGET):\n",
    "    estimator = joblib.load('models/best_model_lr_'+tar+'.pkl')\n",
    "    estimator.fit(data.loc[data.train==1, 'comment_text'], data.loc[data.train==1, tar].values)\n",
    "    submission[tar] = estimator.predict_proba(data.loc[data.train!=1, 'comment_text'])[:,1]\n",
    "submission.head()"
   ]
  },
  {
   "cell_type": "code",
   "execution_count": 46,
   "metadata": {
    "collapsed": true,
    "deletable": true,
    "editable": true
   },
   "outputs": [],
   "source": [
    "submission.to_csv('prediction/sub_fris_grid_search.csv', sep=',')"
   ]
  },
  {
   "cell_type": "code",
   "execution_count": 47,
   "metadata": {
    "collapsed": false,
    "deletable": true,
    "editable": true
   },
   "outputs": [
    {
     "name": "stdout",
     "output_type": "stream",
     "text": [
      "0.076\r\n"
     ]
    }
   ],
   "source": [
    "! kg config -c jigsaw-toxic-comment-classification-challenge -u cerdgio86@gmail.com -p 68918082\n",
    "\n",
    "! kg submit 'prediction/sub_fris_grid_search.csv' -m \"____\""
   ]
  },
  {
   "cell_type": "code",
   "execution_count": null,
   "metadata": {
    "collapsed": true
   },
   "outputs": [],
   "source": []
  }
 ],
 "metadata": {
  "kernelspec": {
   "display_name": "Python 3",
   "language": "python",
   "name": "python3"
  },
  "language_info": {
   "codemirror_mode": {
    "name": "ipython",
    "version": 3
   },
   "file_extension": ".py",
   "mimetype": "text/x-python",
   "name": "python",
   "nbconvert_exporter": "python",
   "pygments_lexer": "ipython3",
   "version": "3.5.2"
  }
 },
 "nbformat": 4,
 "nbformat_minor": 2
}
