{
 "cells": [
  {
   "cell_type": "code",
   "execution_count": 1,
   "metadata": {},
   "outputs": [],
   "source": [
    "# glove embeddding\n",
    "glove_twitter = 'http://nlp.stanford.edu/data/glove.twitter.27B.zip'\n",
    "glove_crowl = 'http://nlp.stanford.edu/data/glove.840B.300d.zip'\n",
    "#w2v_en = 'https://doc-14-3g-docs.googleusercontent.com/docs/securesc/4cvgiao1nb4te9ua4i7vv69oumat5dfg/t5p4t88g0t2rg8383c5aerjv2uvlg06h/1520100000000/06848720943842814915/16463238193964568227/0B7XkCwpI5KDYNlNUTTlSS21pQmM?e=download&nonce=cv5jml82qplcm&user=16463238193964568227&hash=g5prh0perrt6lf98c1unarl0q754iugf'\n",
    "ft_fr = 'https://s3-us-west-1.amazonaws.com/fasttext-vectors/wiki.fr.zip'\n",
    "ft_gr = 'https://s3-us-west-1.amazonaws.com/fasttext-vectors/wiki.de.zip'\n",
    "dep = 'http://u.cs.biu.ac.il/~yogo/data/syntemb/deps.words.bz2'"
   ]
  },
  {
   "cell_type": "code",
   "execution_count": 2,
   "metadata": {},
   "outputs": [],
   "source": [
    "urls = [glove_twitter,\n",
    "            #glove_crowl,\n",
    "            #ft_en,\n",
    "            ft_fr,\n",
    "            #ft_gr,\n",
    "            dep]"
   ]
  },
  {
   "cell_type": "code",
   "execution_count": null,
   "metadata": {},
   "outputs": [
    {
     "name": "stdout",
     "output_type": "stream",
     "text": [
      "--2018-03-03 22:48:36--  http://nlp.stanford.edu/data/glove.twitter.27B.zip\n",
      "Распознаётся nlp.stanford.edu (nlp.stanford.edu)... 171.64.67.140\n",
      "Подключение к nlp.stanford.edu (nlp.stanford.edu)|171.64.67.140|:80... соединение установлено.\n",
      "HTTP-запрос отправлен. Ожидание ответа... 302 Found\n",
      "Адрес: https://nlp.stanford.edu/data/glove.twitter.27B.zip [переход]\n",
      "--2018-03-03 22:48:36--  https://nlp.stanford.edu/data/glove.twitter.27B.zip\n",
      "Подключение к nlp.stanford.edu (nlp.stanford.edu)|171.64.67.140|:443... соединение установлено.\n",
      "HTTP-запрос отправлен. Ожидание ответа... 200 OK\n",
      "Длина: 1520408563 (1,4G) [application/zip]\n",
      "Сохранение в каталог: ««glove.twitter.27B.zip»».\n",
      "\n",
      "glove.twitter.27B.z  14%[=>                  ] 204,10M   517KB/s    eta 34m 3s "
     ]
    }
   ],
   "source": [
    "for emb in urls:\n",
    "    ! cd vocs/\n",
    "    ! wget $emb"
   ]
  },
  {
   "cell_type": "code",
   "execution_count": null,
   "metadata": {},
   "outputs": [],
   "source": []
  }
 ],
 "metadata": {
  "kernelspec": {
   "display_name": "Python 3",
   "language": "python",
   "name": "python3"
  },
  "language_info": {
   "codemirror_mode": {
    "name": "ipython",
    "version": 3
   },
   "file_extension": ".py",
   "mimetype": "text/x-python",
   "name": "python",
   "nbconvert_exporter": "python",
   "pygments_lexer": "ipython3",
   "version": "3.6.0"
  }
 },
 "nbformat": 4,
 "nbformat_minor": 2
}
