{
 "cells": [
  {
   "cell_type": "code",
   "execution_count": 4,
   "metadata": {
    "collapsed": true
   },
   "outputs": [],
   "source": [
    "# glove embeddding\n",
    "glove_twitter = 'http://nlp.stanford.edu/data/glove.twitter.27B.zip'\n",
    "glove_crowl = 'http://nlp.stanford.edu/data/glove.840B.300d.zip'\n",
    "#w2v_en = 'https://doc-14-3g-docs.googleusercontent.com/docs/securesc/4cvgiao1nb4te9ua4i7vv69oumat5dfg/t5p4t88g0t2rg8383c5aerjv2uvlg06h/1520100000000/06848720943842814915/16463238193964568227/0B7XkCwpI5KDYNlNUTTlSS21pQmM?e=download&nonce=cv5jml82qplcm&user=16463238193964568227&hash=g5prh0perrt6lf98c1unarl0q754iugf'\n",
    "ft_fr = 'https://s3-us-west-1.amazonaws.com/fasttext-vectors/wiki.fr.zip'\n",
    "ft_en = 'https://s3-us-west-1.amazonaws.com/fasttext-vectors/wiki.en.zip'\n",
    "ft_gr = 'https://s3-us-west-1.amazonaws.com/fasttext-vectors/wiki.de.zip'\n",
    "dep = 'http://u.cs.biu.ac.il/~yogo/data/syntemb/deps.words.bz2'"
   ]
  },
  {
   "cell_type": "code",
   "execution_count": 5,
   "metadata": {
    "collapsed": true
   },
   "outputs": [],
   "source": [
    "urls = [ft_en, glove_twitter, glove_crowl, ft_fr,ft_gr,dep]"
   ]
  },
  {
   "cell_type": "code",
   "execution_count": 6,
   "metadata": {},
   "outputs": [
    {
     "name": "stdout",
     "output_type": "stream",
     "text": [
      "/bin/sh: line 0: cd: vocs/: No such file or directory\n",
      "--2018-03-06 19:17:29--  https://s3-us-west-1.amazonaws.com/fasttext-vectors/wiki.en.zip\n",
      "Resolving s3-us-west-1.amazonaws.com (s3-us-west-1.amazonaws.com)... 52.219.20.13\n",
      "Connecting to s3-us-west-1.amazonaws.com (s3-us-west-1.amazonaws.com)|52.219.20.13|:443... connected.\n",
      "HTTP request sent, awaiting response... 200 OK\n",
      "Length: 10356881291 (9.6G) [application/zip]\n",
      "Saving to: ‘wiki.en.zip’\n",
      "\n",
      "wiki.en.zip         100%[===================>]   9.65G  18.2MB/s    in 8m 15s  \n",
      "\n",
      "2018-03-06 19:25:45 (20.0 MB/s) - ‘wiki.en.zip’ saved [10356881291/10356881291]\n",
      "\n",
      "/bin/sh: line 0: cd: vocs/: No such file or directory\n",
      "--2018-03-06 19:25:45--  http://nlp.stanford.edu/data/glove.twitter.27B.zip\n",
      "Resolving nlp.stanford.edu (nlp.stanford.edu)... 171.64.67.140\n",
      "Connecting to nlp.stanford.edu (nlp.stanford.edu)|171.64.67.140|:80... connected.\n",
      "HTTP request sent, awaiting response... 302 Found\n",
      "Location: https://nlp.stanford.edu/data/glove.twitter.27B.zip [following]\n",
      "--2018-03-06 19:25:46--  https://nlp.stanford.edu/data/glove.twitter.27B.zip\n",
      "Connecting to nlp.stanford.edu (nlp.stanford.edu)|171.64.67.140|:443... connected.\n",
      "HTTP request sent, awaiting response... 200 OK\n",
      "Length: 1520408563 (1.4G) [application/zip]\n",
      "Saving to: ‘glove.twitter.27B.zip’\n",
      "\n",
      "glove.twitter.27B.z 100%[===================>]   1.42G  3.81MB/s    in 7m 17s  \n",
      "\n",
      "2018-03-06 19:33:04 (3.32 MB/s) - ‘glove.twitter.27B.zip’ saved [1520408563/1520408563]\n",
      "\n",
      "/bin/sh: line 0: cd: vocs/: No such file or directory\n",
      "--2018-03-06 19:33:04--  http://nlp.stanford.edu/data/glove.840B.300d.zip\n",
      "Resolving nlp.stanford.edu (nlp.stanford.edu)... 171.64.67.140\n",
      "Connecting to nlp.stanford.edu (nlp.stanford.edu)|171.64.67.140|:80... connected.\n",
      "HTTP request sent, awaiting response... 302 Found\n",
      "Location: https://nlp.stanford.edu/data/glove.840B.300d.zip [following]\n",
      "--2018-03-06 19:33:04--  https://nlp.stanford.edu/data/glove.840B.300d.zip\n",
      "Connecting to nlp.stanford.edu (nlp.stanford.edu)|171.64.67.140|:443... connected.\n",
      "HTTP request sent, awaiting response... 200 OK\n",
      "Length: 2176768927 (2.0G) [application/zip]\n",
      "Saving to: ‘glove.840B.300d.zip’\n",
      "\n",
      "glove.840B.300d.zip 100%[===================>]   2.03G  3.85MB/s    in 13m 19s \n",
      "\n",
      "2018-03-06 19:46:24 (2.60 MB/s) - ‘glove.840B.300d.zip’ saved [2176768927/2176768927]\n",
      "\n",
      "/bin/sh: line 0: cd: vocs/: No such file or directory\n",
      "--2018-03-06 19:46:24--  https://s3-us-west-1.amazonaws.com/fasttext-vectors/wiki.fr.zip\n",
      "Resolving s3-us-west-1.amazonaws.com (s3-us-west-1.amazonaws.com)... 54.231.236.45\n",
      "Connecting to s3-us-west-1.amazonaws.com (s3-us-west-1.amazonaws.com)|54.231.236.45|:443... connected.\n",
      "HTTP request sent, awaiting response... 200 OK\n",
      "Length: 5975701653 (5.6G) [application/zip]\n",
      "Saving to: ‘wiki.fr.zip’\n",
      "\n",
      "wiki.fr.zip         100%[===================>]   5.56G  21.5MB/s    in 4m 52s  \n",
      "\n",
      "2018-03-06 19:51:17 (19.5 MB/s) - ‘wiki.fr.zip’ saved [5975701653/5975701653]\n",
      "\n",
      "/bin/sh: line 0: cd: vocs/: No such file or directory\n",
      "--2018-03-06 19:51:17--  https://s3-us-west-1.amazonaws.com/fasttext-vectors/wiki.de.zip\n",
      "Resolving s3-us-west-1.amazonaws.com (s3-us-west-1.amazonaws.com)... 54.231.235.41\n",
      "Connecting to s3-us-west-1.amazonaws.com (s3-us-west-1.amazonaws.com)|54.231.235.41|:443... connected.\n",
      "HTTP request sent, awaiting response... 200 OK\n",
      "Length: 9584991379 (8.9G) [application/zip]\n",
      "Saving to: ‘wiki.de.zip’\n",
      "\n",
      "wiki.de.zip         100%[===================>]   8.93G  18.3MB/s    in 7m 55s  \n",
      "\n",
      "2018-03-06 19:59:13 (19.3 MB/s) - ‘wiki.de.zip’ saved [9584991379/9584991379]\n",
      "\n",
      "/bin/sh: line 0: cd: vocs/: No such file or directory\n",
      "--2018-03-06 19:59:13--  http://u.cs.biu.ac.il/~yogo/data/syntemb/deps.words.bz2\n",
      "Resolving u.cs.biu.ac.il (u.cs.biu.ac.il)... 132.70.1.20\n",
      "Connecting to u.cs.biu.ac.il (u.cs.biu.ac.il)|132.70.1.20|:80... connected.\n",
      "HTTP request sent, awaiting response... 200 OK\n",
      "Length: 320870380 (306M) [text/plain]\n",
      "Saving to: ‘deps.words.bz2’\n",
      "\n",
      "deps.words.bz2      100%[===================>] 306.00M  37.3MB/s    in 12s     \n",
      "\n",
      "2018-03-06 19:59:25 (25.3 MB/s) - ‘deps.words.bz2’ saved [320870380/320870380]\n",
      "\n"
     ]
    }
   ],
   "source": [
    "for emb in urls:\n",
    "    ! cd vocs/\n",
    "    ! wget $emb"
   ]
  },
  {
   "cell_type": "code",
   "execution_count": 17,
   "metadata": {},
   "outputs": [
    {
     "name": "stdout",
     "output_type": "stream",
     "text": [
      "Archive:  glove.840B.300d.zip\n",
      "  inflating: glove.840B.300d.txt     \n"
     ]
    }
   ],
   "source": [
    "! unzip glove.840B.300d.zip"
   ]
  },
  {
   "cell_type": "code",
   "execution_count": 15,
   "metadata": {},
   "outputs": [
    {
     "name": "stdout",
     "output_type": "stream",
     "text": [
      "Archive:  wiki.de.zip\n",
      "  inflating: wiki.de.vec             \n",
      "  inflating: wiki.de.bin             \n"
     ]
    }
   ],
   "source": [
    "! unzip wiki.de.zip"
   ]
  },
  {
   "cell_type": "code",
   "execution_count": 16,
   "metadata": {},
   "outputs": [
    {
     "name": "stdout",
     "output_type": "stream",
     "text": [
      "Archive:  wiki.fr.zip\n",
      "  inflating: wiki.fr.vec             \n",
      "  inflating: wiki.fr.bin             \n"
     ]
    }
   ],
   "source": [
    "! unzip wiki.fr.zip"
   ]
  },
  {
   "cell_type": "code",
   "execution_count": 20,
   "metadata": {
    "collapsed": true
   },
   "outputs": [],
   "source": [
    "! gzip -d GoogleNews-vectors-negative300.bin.gz"
   ]
  },
  {
   "cell_type": "code",
   "execution_count": 21,
   "metadata": {
    "collapsed": true
   },
   "outputs": [],
   "source": [
    "! bzip2 -d deps.words.bz2"
   ]
  },
  {
   "cell_type": "code",
   "execution_count": 22,
   "metadata": {},
   "outputs": [
    {
     "data": {
      "text/plain": [
       "['.ipynb_checkpoints',\n",
       " 'wiki.en.vec',\n",
       " 'wiki.de.bin',\n",
       " 'deps.words',\n",
       " 'words_glove_twitter_for_check_spell.pkl',\n",
       " 'glove.twitter.27B.50d.txt',\n",
       " 'wiki.en.bin',\n",
       " 'glove.twitter.27B.100d.txt',\n",
       " 'glove.840B.300d.txt',\n",
       " 'wiki.de.vec',\n",
       " 'wiki.fr.bin',\n",
       " 'wiki.fr.vec',\n",
       " 'glove.840B.300d.zip',\n",
       " 'load_embs.ipynb',\n",
       " 'words_for_check_spell.pkl',\n",
       " 'glove.twitter.27B.200d.txt',\n",
       " 'GoogleNews-vectors-negative300.bin',\n",
       " 'glove.twitter.27B.25d.txt',\n",
       " 'glove.twitter.27B.200d_w2v.txt']"
      ]
     },
     "execution_count": 22,
     "metadata": {},
     "output_type": "execute_result"
    }
   ],
   "source": [
    "import os\n",
    "os.listdir()"
   ]
  },
  {
   "cell_type": "code",
   "execution_count": 12,
   "metadata": {},
   "outputs": [],
   "source": [
    "import numpy as np\n",
    "np.random.seed(42)\n",
    "import pandas as pd\n",
    "\n",
    "from sklearn.model_selection import train_test_split\n",
    "from sklearn.metrics import roc_auc_score\n",
    "\n",
    "from keras.models import Model\n",
    "from keras.layers import Input, Dense, Embedding, SpatialDropout1D, concatenate\n",
    "from keras.layers import GRU, Bidirectional, GlobalAveragePooling1D, GlobalMaxPooling1D, Dropout\n",
    "from keras.preprocessing import text, sequence\n",
    "from keras.callbacks import Callback\n",
    "from keras import backend as K\n",
    "import re\n",
    "import warnings\n",
    "warnings.filterwarnings('ignore')\n",
    "import gensim\n",
    "from gensim.scripts.glove2word2vec import glove2word2vec\n",
    "\n",
    "import os\n",
    "os.environ['OMP_NUM_THREADS'] = '4'"
   ]
  },
  {
   "cell_type": "code",
   "execution_count": 2,
   "metadata": {
    "collapsed": true
   },
   "outputs": [],
   "source": [
    "train = pd.read_csv('../pre_data/df_train_tw_corr.csv', sep=';', index_col='index')\n",
    "test = pd.read_csv('../pre_data/df_test_tw_corr.csv', sep=';', index_col='index')\n",
    "submission = pd.read_csv('../data/sample_submission.csv')\n",
    "\n",
    "y = pd.read_csv('../data/train.csv')\n",
    "\n",
    "X_train = train[\"comment_text\"].fillna(\"fillna\").values\n",
    "y_train = y[[\"toxic\", \"severe_toxic\", \"obscene\", \"threat\", \"insult\", \"identity_hate\"]].values\n",
    "X_test = test[\"comment_text\"].fillna(\"fillna\").values\n",
    "\n",
    "\n",
    "max_features = 200000\n",
    "maxlen = 460\n",
    "\n",
    "\n",
    "tokenizer = text.Tokenizer(num_words=max_features)\n",
    "tokenizer.fit_on_texts(list(X_train) + list(X_test))\n",
    "X_train = tokenizer.texts_to_sequences(X_train)\n",
    "X_test = tokenizer.texts_to_sequences(X_test)\n",
    "x_train = sequence.pad_sequences(X_train, maxlen=maxlen)\n",
    "x_test = sequence.pad_sequences(X_test, maxlen=maxlen)"
   ]
  },
  {
   "cell_type": "code",
   "execution_count": 17,
   "metadata": {},
   "outputs": [],
   "source": [
    "emb_files = [\n",
    "    #('wiki.en.vec',False),\n",
    " #'deps.words',\n",
    " #('glove.twitter.27B.50d.txt',False),\n",
    " #('glove.twitter.27B.100d.txt',False),\n",
    " #('glove.840B.300d.txt',False),\n",
    " #('wiki.de.vec',False),\n",
    " #('wiki.fr.vec',False),\n",
    " #('glove.twitter.27B.200d.txt',False),\n",
    " ('GoogleNews-vectors-negative300.bin',True),\n",
    " ('glove.twitter.27B.25d.txt',False)]"
   ]
  },
  {
   "cell_type": "code",
   "execution_count": 18,
   "metadata": {},
   "outputs": [
    {
     "name": "stdout",
     "output_type": "stream",
     "text": [
      "GoogleNews-vectors-negative300.bin\n",
      "glove.twitter.27B.25d.txt\n"
     ]
    }
   ],
   "source": [
    "for efile, flag_fin in emb_files:\n",
    "    print(efile)\n",
    "    try:\n",
    "        model = gensim.models.KeyedVectors.load_word2vec_format(efile, binary=flag_fin)\n",
    "    except:\n",
    "        glove2word2vec(efile, efile[:-4]+'_w2v_'+efile[-4:])\n",
    "        model = gensim.models.KeyedVectors.load_word2vec_format(efile[:-4]+'_w2v_'+efile[-4:], binary=flag_fin)\n",
    "    embed_size = model.vector_size\n",
    "    #def get_coefs(word, *arr): return word, np.asarray(arr, dtype='float32')\n",
    "    embeddings_index = {key:model.wv[key] for key in model.wv.vocab.keys()}\n",
    "\n",
    "    all_embs = np.stack(embeddings_index.values())\n",
    "    emb_mean, emb_std = all_embs.mean(), all_embs.std()\n",
    "\n",
    "    word_index = tokenizer.word_index\n",
    "    nb_words = min(max_features, len(word_index))\n",
    "    embedding_matrix = np.random.normal(emb_mean, emb_std, (nb_words, embed_size))\n",
    "    for word, i in word_index.items():\n",
    "        if i >= max_features: continue\n",
    "        embedding_vector = embeddings_index.get(word)\n",
    "        if embedding_vector is not None: embedding_matrix[i] = embedding_vector\n",
    "    np.save('emb_lemm_corr_'+efile[:8]+'_'+str(embed_size)+'_'+'.npy', embedding_matrix)"
   ]
  },
  {
   "cell_type": "code",
   "execution_count": null,
   "metadata": {
    "collapsed": true
   },
   "outputs": [],
   "source": []
  }
 ],
 "metadata": {
  "kernelspec": {
   "display_name": "Python 3",
   "language": "python",
   "name": "python3"
  },
  "language_info": {
   "codemirror_mode": {
    "name": "ipython",
    "version": 3
   },
   "file_extension": ".py",
   "mimetype": "text/x-python",
   "name": "python",
   "nbconvert_exporter": "python",
   "pygments_lexer": "ipython3",
   "version": "3.5.2"
  }
 },
 "nbformat": 4,
 "nbformat_minor": 2
}
